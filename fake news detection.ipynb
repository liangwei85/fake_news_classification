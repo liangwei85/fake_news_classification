{
 "cells": [
  {
   "cell_type": "code",
   "execution_count": 45,
   "metadata": {
    "executionInfo": {
     "elapsed": 329,
     "status": "ok",
     "timestamp": 1655435861931,
     "user": {
      "displayName": "Liang Wei Ch'ng",
      "userId": "07458779485642893402"
     },
     "user_tz": -480
    },
    "id": "2ngNpdEIc5JR"
   },
   "outputs": [],
   "source": [
    "import numpy as np\n",
    "import pandas as pd\n",
    "import matplotlib.pyplot as plt\n",
    "\n",
    "import tensorflow as tf\n",
    "import tensorflow_hub as hub"
   ]
  },
  {
   "cell_type": "code",
   "execution_count": 2,
   "metadata": {
    "executionInfo": {
     "elapsed": 2498,
     "status": "ok",
     "timestamp": 1655435257065,
     "user": {
      "displayName": "Liang Wei Ch'ng",
      "userId": "07458779485642893402"
     },
     "user_tz": -480
    },
    "id": "jr6CCvaUZMnv"
   },
   "outputs": [],
   "source": [
    "df_true  = pd.read_csv('True.csv')\n",
    "df_fake  = pd.read_csv('Fake.csv')"
   ]
  },
  {
   "cell_type": "code",
   "execution_count": 46,
   "metadata": {
    "executionInfo": {
     "elapsed": 1,
     "status": "ok",
     "timestamp": 1655435863271,
     "user": {
      "displayName": "Liang Wei Ch'ng",
      "userId": "07458779485642893402"
     },
     "user_tz": -480
    },
    "id": "aTMu4muYjAns"
   },
   "outputs": [],
   "source": [
    "df_true['label'] = 1\n",
    "df_fake['label'] = 0"
   ]
  },
  {
   "cell_type": "code",
   "execution_count": 47,
   "metadata": {
    "executionInfo": {
     "elapsed": 1,
     "status": "ok",
     "timestamp": 1655435863755,
     "user": {
      "displayName": "Liang Wei Ch'ng",
      "userId": "07458779485642893402"
     },
     "user_tz": -480
    },
    "id": "PNBoDSAujw9k"
   },
   "outputs": [],
   "source": [
    "df = pd.concat([df_true,df_fake],ignore_index=True)"
   ]
  },
  {
   "cell_type": "code",
   "execution_count": 48,
   "metadata": {
    "colab": {
     "base_uri": "https://localhost:8080/",
     "height": 206
    },
    "executionInfo": {
     "elapsed": 3,
     "status": "ok",
     "timestamp": 1655435864597,
     "user": {
      "displayName": "Liang Wei Ch'ng",
      "userId": "07458779485642893402"
     },
     "user_tz": -480
    },
    "id": "Vv1826U7miFu",
    "outputId": "50b89b37-2fd2-4883-e216-6b2e9bbdcd5a"
   },
   "outputs": [
    {
     "data": {
      "text/html": [
       "\n",
       "  <div id=\"df-f41ca024-23a5-4be7-89f3-5fc08199e9af\">\n",
       "    <div class=\"colab-df-container\">\n",
       "      <div>\n",
       "<style scoped>\n",
       "    .dataframe tbody tr th:only-of-type {\n",
       "        vertical-align: middle;\n",
       "    }\n",
       "\n",
       "    .dataframe tbody tr th {\n",
       "        vertical-align: top;\n",
       "    }\n",
       "\n",
       "    .dataframe thead th {\n",
       "        text-align: right;\n",
       "    }\n",
       "</style>\n",
       "<table border=\"1\" class=\"dataframe\">\n",
       "  <thead>\n",
       "    <tr style=\"text-align: right;\">\n",
       "      <th></th>\n",
       "      <th>title</th>\n",
       "      <th>text</th>\n",
       "      <th>subject</th>\n",
       "      <th>date</th>\n",
       "      <th>label</th>\n",
       "    </tr>\n",
       "  </thead>\n",
       "  <tbody>\n",
       "    <tr>\n",
       "      <th>0</th>\n",
       "      <td>As U.S. budget fight looms, Republicans flip t...</td>\n",
       "      <td>WASHINGTON (Reuters) - The head of a conservat...</td>\n",
       "      <td>politicsNews</td>\n",
       "      <td>December 31, 2017</td>\n",
       "      <td>1</td>\n",
       "    </tr>\n",
       "    <tr>\n",
       "      <th>1</th>\n",
       "      <td>U.S. military to accept transgender recruits o...</td>\n",
       "      <td>WASHINGTON (Reuters) - Transgender people will...</td>\n",
       "      <td>politicsNews</td>\n",
       "      <td>December 29, 2017</td>\n",
       "      <td>1</td>\n",
       "    </tr>\n",
       "    <tr>\n",
       "      <th>2</th>\n",
       "      <td>Senior U.S. Republican senator: 'Let Mr. Muell...</td>\n",
       "      <td>WASHINGTON (Reuters) - The special counsel inv...</td>\n",
       "      <td>politicsNews</td>\n",
       "      <td>December 31, 2017</td>\n",
       "      <td>1</td>\n",
       "    </tr>\n",
       "    <tr>\n",
       "      <th>3</th>\n",
       "      <td>FBI Russia probe helped by Australian diplomat...</td>\n",
       "      <td>WASHINGTON (Reuters) - Trump campaign adviser ...</td>\n",
       "      <td>politicsNews</td>\n",
       "      <td>December 30, 2017</td>\n",
       "      <td>1</td>\n",
       "    </tr>\n",
       "    <tr>\n",
       "      <th>4</th>\n",
       "      <td>Trump wants Postal Service to charge 'much mor...</td>\n",
       "      <td>SEATTLE/WASHINGTON (Reuters) - President Donal...</td>\n",
       "      <td>politicsNews</td>\n",
       "      <td>December 29, 2017</td>\n",
       "      <td>1</td>\n",
       "    </tr>\n",
       "  </tbody>\n",
       "</table>\n",
       "</div>\n",
       "      <button class=\"colab-df-convert\" onclick=\"convertToInteractive('df-f41ca024-23a5-4be7-89f3-5fc08199e9af')\"\n",
       "              title=\"Convert this dataframe to an interactive table.\"\n",
       "              style=\"display:none;\">\n",
       "        \n",
       "  <svg xmlns=\"http://www.w3.org/2000/svg\" height=\"24px\"viewBox=\"0 0 24 24\"\n",
       "       width=\"24px\">\n",
       "    <path d=\"M0 0h24v24H0V0z\" fill=\"none\"/>\n",
       "    <path d=\"M18.56 5.44l.94 2.06.94-2.06 2.06-.94-2.06-.94-.94-2.06-.94 2.06-2.06.94zm-11 1L8.5 8.5l.94-2.06 2.06-.94-2.06-.94L8.5 2.5l-.94 2.06-2.06.94zm10 10l.94 2.06.94-2.06 2.06-.94-2.06-.94-.94-2.06-.94 2.06-2.06.94z\"/><path d=\"M17.41 7.96l-1.37-1.37c-.4-.4-.92-.59-1.43-.59-.52 0-1.04.2-1.43.59L10.3 9.45l-7.72 7.72c-.78.78-.78 2.05 0 2.83L4 21.41c.39.39.9.59 1.41.59.51 0 1.02-.2 1.41-.59l7.78-7.78 2.81-2.81c.8-.78.8-2.07 0-2.86zM5.41 20L4 18.59l7.72-7.72 1.47 1.35L5.41 20z\"/>\n",
       "  </svg>\n",
       "      </button>\n",
       "      \n",
       "  <style>\n",
       "    .colab-df-container {\n",
       "      display:flex;\n",
       "      flex-wrap:wrap;\n",
       "      gap: 12px;\n",
       "    }\n",
       "\n",
       "    .colab-df-convert {\n",
       "      background-color: #E8F0FE;\n",
       "      border: none;\n",
       "      border-radius: 50%;\n",
       "      cursor: pointer;\n",
       "      display: none;\n",
       "      fill: #1967D2;\n",
       "      height: 32px;\n",
       "      padding: 0 0 0 0;\n",
       "      width: 32px;\n",
       "    }\n",
       "\n",
       "    .colab-df-convert:hover {\n",
       "      background-color: #E2EBFA;\n",
       "      box-shadow: 0px 1px 2px rgba(60, 64, 67, 0.3), 0px 1px 3px 1px rgba(60, 64, 67, 0.15);\n",
       "      fill: #174EA6;\n",
       "    }\n",
       "\n",
       "    [theme=dark] .colab-df-convert {\n",
       "      background-color: #3B4455;\n",
       "      fill: #D2E3FC;\n",
       "    }\n",
       "\n",
       "    [theme=dark] .colab-df-convert:hover {\n",
       "      background-color: #434B5C;\n",
       "      box-shadow: 0px 1px 3px 1px rgba(0, 0, 0, 0.15);\n",
       "      filter: drop-shadow(0px 1px 2px rgba(0, 0, 0, 0.3));\n",
       "      fill: #FFFFFF;\n",
       "    }\n",
       "  </style>\n",
       "\n",
       "      <script>\n",
       "        const buttonEl =\n",
       "          document.querySelector('#df-f41ca024-23a5-4be7-89f3-5fc08199e9af button.colab-df-convert');\n",
       "        buttonEl.style.display =\n",
       "          google.colab.kernel.accessAllowed ? 'block' : 'none';\n",
       "\n",
       "        async function convertToInteractive(key) {\n",
       "          const element = document.querySelector('#df-f41ca024-23a5-4be7-89f3-5fc08199e9af');\n",
       "          const dataTable =\n",
       "            await google.colab.kernel.invokeFunction('convertToInteractive',\n",
       "                                                     [key], {});\n",
       "          if (!dataTable) return;\n",
       "\n",
       "          const docLinkHtml = 'Like what you see? Visit the ' +\n",
       "            '<a target=\"_blank\" href=https://colab.research.google.com/notebooks/data_table.ipynb>data table notebook</a>'\n",
       "            + ' to learn more about interactive tables.';\n",
       "          element.innerHTML = '';\n",
       "          dataTable['output_type'] = 'display_data';\n",
       "          await google.colab.output.renderOutput(dataTable, element);\n",
       "          const docLink = document.createElement('div');\n",
       "          docLink.innerHTML = docLinkHtml;\n",
       "          element.appendChild(docLink);\n",
       "        }\n",
       "      </script>\n",
       "    </div>\n",
       "  </div>\n",
       "  "
      ],
      "text/plain": [
       "                                               title  \\\n",
       "0  As U.S. budget fight looms, Republicans flip t...   \n",
       "1  U.S. military to accept transgender recruits o...   \n",
       "2  Senior U.S. Republican senator: 'Let Mr. Muell...   \n",
       "3  FBI Russia probe helped by Australian diplomat...   \n",
       "4  Trump wants Postal Service to charge 'much mor...   \n",
       "\n",
       "                                                text       subject  \\\n",
       "0  WASHINGTON (Reuters) - The head of a conservat...  politicsNews   \n",
       "1  WASHINGTON (Reuters) - Transgender people will...  politicsNews   \n",
       "2  WASHINGTON (Reuters) - The special counsel inv...  politicsNews   \n",
       "3  WASHINGTON (Reuters) - Trump campaign adviser ...  politicsNews   \n",
       "4  SEATTLE/WASHINGTON (Reuters) - President Donal...  politicsNews   \n",
       "\n",
       "                 date  label  \n",
       "0  December 31, 2017       1  \n",
       "1  December 29, 2017       1  \n",
       "2  December 31, 2017       1  \n",
       "3  December 30, 2017       1  \n",
       "4  December 29, 2017       1  "
      ]
     },
     "execution_count": 48,
     "metadata": {},
     "output_type": "execute_result"
    }
   ],
   "source": [
    "df.head()"
   ]
  },
  {
   "cell_type": "code",
   "execution_count": 49,
   "metadata": {
    "colab": {
     "base_uri": "https://localhost:8080/"
    },
    "executionInfo": {
     "elapsed": 324,
     "status": "ok",
     "timestamp": 1655435866339,
     "user": {
      "displayName": "Liang Wei Ch'ng",
      "userId": "07458779485642893402"
     },
     "user_tz": -480
    },
    "id": "kWGV42ppqXf9",
    "outputId": "2464f6ca-2d54-4d90-c7c8-b46faa1981ad"
   },
   "outputs": [
    {
     "data": {
      "text/plain": [
       "title      object\n",
       "text       object\n",
       "subject    object\n",
       "date       object\n",
       "label       int64\n",
       "dtype: object"
      ]
     },
     "execution_count": 49,
     "metadata": {},
     "output_type": "execute_result"
    }
   ],
   "source": [
    "df.dtypes"
   ]
  },
  {
   "cell_type": "code",
   "execution_count": 52,
   "metadata": {
    "executionInfo": {
     "elapsed": 404,
     "status": "ok",
     "timestamp": 1655435962488,
     "user": {
      "displayName": "Liang Wei Ch'ng",
      "userId": "07458779485642893402"
     },
     "user_tz": -480
    },
    "id": "9jpouM-Dqy-6"
   },
   "outputs": [],
   "source": [
    "df['label'] = df['label'].astype(int)"
   ]
  },
  {
   "cell_type": "code",
   "execution_count": 33,
   "metadata": {
    "executionInfo": {
     "elapsed": 282,
     "status": "ok",
     "timestamp": 1655435627035,
     "user": {
      "displayName": "Liang Wei Ch'ng",
      "userId": "07458779485642893402"
     },
     "user_tz": -480
    },
    "id": "-xG41HIgpmfN"
   },
   "outputs": [],
   "source": [
    "df.dropna(inplace=True)"
   ]
  },
  {
   "cell_type": "code",
   "execution_count": 34,
   "metadata": {
    "executionInfo": {
     "elapsed": 456,
     "status": "ok",
     "timestamp": 1655435630960,
     "user": {
      "displayName": "Liang Wei Ch'ng",
      "userId": "07458779485642893402"
     },
     "user_tz": -480
    },
    "id": "5Es4FFf3jJeq"
   },
   "outputs": [],
   "source": [
    "df.drop(['title','subject','date'] ,axis=1, inplace=True)"
   ]
  },
  {
   "cell_type": "code",
   "execution_count": 35,
   "metadata": {
    "colab": {
     "base_uri": "https://localhost:8080/",
     "height": 206
    },
    "executionInfo": {
     "elapsed": 3,
     "status": "ok",
     "timestamp": 1655435632392,
     "user": {
      "displayName": "Liang Wei Ch'ng",
      "userId": "07458779485642893402"
     },
     "user_tz": -480
    },
    "id": "Kg7konWvd0B_",
    "outputId": "e1f3cbce-ce42-4854-bc73-eea49962c586"
   },
   "outputs": [
    {
     "data": {
      "text/html": [
       "\n",
       "  <div id=\"df-761a985d-23b6-4874-abaa-fba6a1fa0db1\">\n",
       "    <div class=\"colab-df-container\">\n",
       "      <div>\n",
       "<style scoped>\n",
       "    .dataframe tbody tr th:only-of-type {\n",
       "        vertical-align: middle;\n",
       "    }\n",
       "\n",
       "    .dataframe tbody tr th {\n",
       "        vertical-align: top;\n",
       "    }\n",
       "\n",
       "    .dataframe thead th {\n",
       "        text-align: right;\n",
       "    }\n",
       "</style>\n",
       "<table border=\"1\" class=\"dataframe\">\n",
       "  <thead>\n",
       "    <tr style=\"text-align: right;\">\n",
       "      <th></th>\n",
       "      <th>text</th>\n",
       "      <th>label</th>\n",
       "    </tr>\n",
       "  </thead>\n",
       "  <tbody>\n",
       "    <tr>\n",
       "      <th>0</th>\n",
       "      <td>WASHINGTON (Reuters) - The head of a conservat...</td>\n",
       "      <td>1</td>\n",
       "    </tr>\n",
       "    <tr>\n",
       "      <th>1</th>\n",
       "      <td>WASHINGTON (Reuters) - Transgender people will...</td>\n",
       "      <td>1</td>\n",
       "    </tr>\n",
       "    <tr>\n",
       "      <th>2</th>\n",
       "      <td>WASHINGTON (Reuters) - The special counsel inv...</td>\n",
       "      <td>1</td>\n",
       "    </tr>\n",
       "    <tr>\n",
       "      <th>3</th>\n",
       "      <td>WASHINGTON (Reuters) - Trump campaign adviser ...</td>\n",
       "      <td>1</td>\n",
       "    </tr>\n",
       "    <tr>\n",
       "      <th>4</th>\n",
       "      <td>SEATTLE/WASHINGTON (Reuters) - President Donal...</td>\n",
       "      <td>1</td>\n",
       "    </tr>\n",
       "  </tbody>\n",
       "</table>\n",
       "</div>\n",
       "      <button class=\"colab-df-convert\" onclick=\"convertToInteractive('df-761a985d-23b6-4874-abaa-fba6a1fa0db1')\"\n",
       "              title=\"Convert this dataframe to an interactive table.\"\n",
       "              style=\"display:none;\">\n",
       "        \n",
       "  <svg xmlns=\"http://www.w3.org/2000/svg\" height=\"24px\"viewBox=\"0 0 24 24\"\n",
       "       width=\"24px\">\n",
       "    <path d=\"M0 0h24v24H0V0z\" fill=\"none\"/>\n",
       "    <path d=\"M18.56 5.44l.94 2.06.94-2.06 2.06-.94-2.06-.94-.94-2.06-.94 2.06-2.06.94zm-11 1L8.5 8.5l.94-2.06 2.06-.94-2.06-.94L8.5 2.5l-.94 2.06-2.06.94zm10 10l.94 2.06.94-2.06 2.06-.94-2.06-.94-.94-2.06-.94 2.06-2.06.94z\"/><path d=\"M17.41 7.96l-1.37-1.37c-.4-.4-.92-.59-1.43-.59-.52 0-1.04.2-1.43.59L10.3 9.45l-7.72 7.72c-.78.78-.78 2.05 0 2.83L4 21.41c.39.39.9.59 1.41.59.51 0 1.02-.2 1.41-.59l7.78-7.78 2.81-2.81c.8-.78.8-2.07 0-2.86zM5.41 20L4 18.59l7.72-7.72 1.47 1.35L5.41 20z\"/>\n",
       "  </svg>\n",
       "      </button>\n",
       "      \n",
       "  <style>\n",
       "    .colab-df-container {\n",
       "      display:flex;\n",
       "      flex-wrap:wrap;\n",
       "      gap: 12px;\n",
       "    }\n",
       "\n",
       "    .colab-df-convert {\n",
       "      background-color: #E8F0FE;\n",
       "      border: none;\n",
       "      border-radius: 50%;\n",
       "      cursor: pointer;\n",
       "      display: none;\n",
       "      fill: #1967D2;\n",
       "      height: 32px;\n",
       "      padding: 0 0 0 0;\n",
       "      width: 32px;\n",
       "    }\n",
       "\n",
       "    .colab-df-convert:hover {\n",
       "      background-color: #E2EBFA;\n",
       "      box-shadow: 0px 1px 2px rgba(60, 64, 67, 0.3), 0px 1px 3px 1px rgba(60, 64, 67, 0.15);\n",
       "      fill: #174EA6;\n",
       "    }\n",
       "\n",
       "    [theme=dark] .colab-df-convert {\n",
       "      background-color: #3B4455;\n",
       "      fill: #D2E3FC;\n",
       "    }\n",
       "\n",
       "    [theme=dark] .colab-df-convert:hover {\n",
       "      background-color: #434B5C;\n",
       "      box-shadow: 0px 1px 3px 1px rgba(0, 0, 0, 0.15);\n",
       "      filter: drop-shadow(0px 1px 2px rgba(0, 0, 0, 0.3));\n",
       "      fill: #FFFFFF;\n",
       "    }\n",
       "  </style>\n",
       "\n",
       "      <script>\n",
       "        const buttonEl =\n",
       "          document.querySelector('#df-761a985d-23b6-4874-abaa-fba6a1fa0db1 button.colab-df-convert');\n",
       "        buttonEl.style.display =\n",
       "          google.colab.kernel.accessAllowed ? 'block' : 'none';\n",
       "\n",
       "        async function convertToInteractive(key) {\n",
       "          const element = document.querySelector('#df-761a985d-23b6-4874-abaa-fba6a1fa0db1');\n",
       "          const dataTable =\n",
       "            await google.colab.kernel.invokeFunction('convertToInteractive',\n",
       "                                                     [key], {});\n",
       "          if (!dataTable) return;\n",
       "\n",
       "          const docLinkHtml = 'Like what you see? Visit the ' +\n",
       "            '<a target=\"_blank\" href=https://colab.research.google.com/notebooks/data_table.ipynb>data table notebook</a>'\n",
       "            + ' to learn more about interactive tables.';\n",
       "          element.innerHTML = '';\n",
       "          dataTable['output_type'] = 'display_data';\n",
       "          await google.colab.output.renderOutput(dataTable, element);\n",
       "          const docLink = document.createElement('div');\n",
       "          docLink.innerHTML = docLinkHtml;\n",
       "          element.appendChild(docLink);\n",
       "        }\n",
       "      </script>\n",
       "    </div>\n",
       "  </div>\n",
       "  "
      ],
      "text/plain": [
       "                                                text  label\n",
       "0  WASHINGTON (Reuters) - The head of a conservat...      1\n",
       "1  WASHINGTON (Reuters) - Transgender people will...      1\n",
       "2  WASHINGTON (Reuters) - The special counsel inv...      1\n",
       "3  WASHINGTON (Reuters) - Trump campaign adviser ...      1\n",
       "4  SEATTLE/WASHINGTON (Reuters) - President Donal...      1"
      ]
     },
     "execution_count": 35,
     "metadata": {},
     "output_type": "execute_result"
    }
   ],
   "source": [
    "df.head()"
   ]
  },
  {
   "cell_type": "code",
   "execution_count": 54,
   "metadata": {
    "executionInfo": {
     "elapsed": 307,
     "status": "ok",
     "timestamp": 1655435996381,
     "user": {
      "displayName": "Liang Wei Ch'ng",
      "userId": "07458779485642893402"
     },
     "user_tz": -480
    },
    "id": "_1h17RKmd2AN"
   },
   "outputs": [],
   "source": [
    "train, val, test = np.split(df.sample(frac=1), [int(0.8*len(df)), int(0.9*len(df))])"
   ]
  },
  {
   "cell_type": "code",
   "execution_count": 55,
   "metadata": {
    "colab": {
     "base_uri": "https://localhost:8080/"
    },
    "executionInfo": {
     "elapsed": 1,
     "status": "ok",
     "timestamp": 1655435996889,
     "user": {
      "displayName": "Liang Wei Ch'ng",
      "userId": "07458779485642893402"
     },
     "user_tz": -480
    },
    "id": "igVDHiRud2E2",
    "outputId": "de86d0b8-4dfa-4732-d919-6d4d7436483a"
   },
   "outputs": [
    {
     "data": {
      "text/plain": [
       "(35918, 4490, 4490)"
      ]
     },
     "execution_count": 55,
     "metadata": {},
     "output_type": "execute_result"
    }
   ],
   "source": [
    "len(train), len(val), len(test)"
   ]
  },
  {
   "cell_type": "code",
   "execution_count": 42,
   "metadata": {
    "executionInfo": {
     "elapsed": 309,
     "status": "ok",
     "timestamp": 1655435771412,
     "user": {
      "displayName": "Liang Wei Ch'ng",
      "userId": "07458779485642893402"
     },
     "user_tz": -480
    },
    "id": "mxCE7fsdd2I-"
   },
   "outputs": [],
   "source": [
    "def df_to_dataset(dataframe, shuffle=True, batch_size=512):\n",
    "  df = dataframe.copy()\n",
    "  labels = df.pop('label')\n",
    "  df = df[\"text\"]\n",
    "  ds = tf.data.Dataset.from_tensor_slices((df, labels))\n",
    "  if shuffle:\n",
    "    ds = ds.shuffle(buffer_size=len(dataframe))\n",
    "  ds = ds.batch(batch_size)\n",
    "  ds = ds.prefetch(tf.data.AUTOTUNE)\n",
    "  return ds"
   ]
  },
  {
   "cell_type": "code",
   "execution_count": 56,
   "metadata": {
    "executionInfo": {
     "elapsed": 484,
     "status": "ok",
     "timestamp": 1655435998838,
     "user": {
      "displayName": "Liang Wei Ch'ng",
      "userId": "07458779485642893402"
     },
     "user_tz": -480
    },
    "id": "jXcdF9JViQg2"
   },
   "outputs": [],
   "source": [
    "train_data = df_to_dataset(train)\n",
    "valid_data = df_to_dataset(val)\n",
    "test_data = df_to_dataset(test)"
   ]
  },
  {
   "cell_type": "markdown",
   "metadata": {
    "id": "QQhvgMyzfEKk"
   },
   "source": [
    "## Embedding + Model\n"
   ]
  },
  {
   "cell_type": "code",
   "execution_count": 57,
   "metadata": {
    "executionInfo": {
     "elapsed": 1027,
     "status": "ok",
     "timestamp": 1655436010821,
     "user": {
      "displayName": "Liang Wei Ch'ng",
      "userId": "07458779485642893402"
     },
     "user_tz": -480
    },
    "id": "ddklEieYiRhH"
   },
   "outputs": [],
   "source": [
    "embedding = \"https://tfhub.dev/google/nnlm-en-dim50/2\"\n",
    "hub_layer = hub.KerasLayer(embedding, dtype=tf.string, trainable=True)"
   ]
  },
  {
   "cell_type": "code",
   "execution_count": 58,
   "metadata": {
    "colab": {
     "base_uri": "https://localhost:8080/"
    },
    "executionInfo": {
     "elapsed": 504,
     "status": "ok",
     "timestamp": 1655436011324,
     "user": {
      "displayName": "Liang Wei Ch'ng",
      "userId": "07458779485642893402"
     },
     "user_tz": -480
    },
    "id": "T25kKknFiRl0",
    "outputId": "f5a52696-eb0a-4a4c-f601-d5b5984f01e3"
   },
   "outputs": [
    {
     "data": {
      "text/plain": [
       "<tf.Tensor: shape=(512, 50), dtype=float32, numpy=\n",
       "array([[ 0.79476875,  0.28695327,  0.6339412 , ..., -0.21898238,\n",
       "        -0.49479035,  0.244615  ],\n",
       "       [ 1.1358101 ,  0.4969203 ,  0.44131362, ..., -0.11828542,\n",
       "         0.22833906, -0.3626587 ],\n",
       "       [ 1.0479355 ,  0.1611436 ,  0.03254304, ..., -0.21970323,\n",
       "        -0.1947471 , -0.06093708],\n",
       "       ...,\n",
       "       [ 0.9799793 ,  0.1500292 ,  0.4979023 , ...,  0.11029322,\n",
       "         0.11470143, -0.13644151],\n",
       "       [ 0.3511225 ,  0.46538994,  0.02568119, ...,  0.16861767,\n",
       "        -0.14470051,  0.13008107],\n",
       "       [ 1.2974858 ,  0.4130566 , -0.16124429, ..., -0.11828053,\n",
       "        -0.42677692, -0.01708301]], dtype=float32)>"
      ]
     },
     "execution_count": 58,
     "metadata": {},
     "output_type": "execute_result"
    }
   ],
   "source": [
    "hub_layer(list(train_data)[0][0])"
   ]
  },
  {
   "cell_type": "code",
   "execution_count": 59,
   "metadata": {
    "executionInfo": {
     "elapsed": 418,
     "status": "ok",
     "timestamp": 1655436016252,
     "user": {
      "displayName": "Liang Wei Ch'ng",
      "userId": "07458779485642893402"
     },
     "user_tz": -480
    },
    "id": "fpoA9mSpiRq8"
   },
   "outputs": [],
   "source": [
    "model1 = tf.keras.Sequential()\n",
    "model1.add(hub_layer)\n",
    "model1.add(tf.keras.layers.Dense(16, activation='relu'))\n",
    "model1.add(tf.keras.layers.Dropout(0.4))\n",
    "model1.add(tf.keras.layers.Dense(16, activation='relu'))\n",
    "model1.add(tf.keras.layers.Dropout(0.4))\n",
    "model1.add(tf.keras.layers.Dense(1, activation='sigmoid'))"
   ]
  },
  {
   "cell_type": "code",
   "execution_count": 60,
   "metadata": {
    "executionInfo": {
     "elapsed": 495,
     "status": "ok",
     "timestamp": 1655436018903,
     "user": {
      "displayName": "Liang Wei Ch'ng",
      "userId": "07458779485642893402"
     },
     "user_tz": -480
    },
    "id": "Obeiq6FCiRvU"
   },
   "outputs": [],
   "source": [
    "model1.compile(optimizer=tf.keras.optimizers.Adam(learning_rate=0.001),\n",
    "              loss=tf.keras.losses.BinaryCrossentropy(),\n",
    "              metrics=['accuracy','AUC'])"
   ]
  },
  {
   "cell_type": "code",
   "execution_count": 61,
   "metadata": {
    "colab": {
     "base_uri": "https://localhost:8080/"
    },
    "executionInfo": {
     "elapsed": 6075,
     "status": "ok",
     "timestamp": 1655436026186,
     "user": {
      "displayName": "Liang Wei Ch'ng",
      "userId": "07458779485642893402"
     },
     "user_tz": -480
    },
    "id": "4eLvZqJ1iRzr",
    "outputId": "81b24bf9-dfd0-4cfc-f642-a694408f7166"
   },
   "outputs": [
    {
     "name": "stdout",
     "output_type": "stream",
     "text": [
      "71/71 [==============================] - 6s 62ms/step - loss: 0.7919 - accuracy: 0.3085 - auc: 0.2377\n"
     ]
    },
    {
     "data": {
      "text/plain": [
       "[0.7919171452522278, 0.3085361123085022, 0.237661212682724]"
      ]
     },
     "execution_count": 61,
     "metadata": {},
     "output_type": "execute_result"
    }
   ],
   "source": [
    "model1.evaluate(train_data)"
   ]
  },
  {
   "cell_type": "code",
   "execution_count": 62,
   "metadata": {
    "colab": {
     "base_uri": "https://localhost:8080/"
    },
    "executionInfo": {
     "elapsed": 962,
     "status": "ok",
     "timestamp": 1655436027140,
     "user": {
      "displayName": "Liang Wei Ch'ng",
      "userId": "07458779485642893402"
     },
     "user_tz": -480
    },
    "id": "TAKiH2rliR4H",
    "outputId": "452b2ed0-987b-4460-aa1d-c8fb5cd35da1"
   },
   "outputs": [
    {
     "name": "stdout",
     "output_type": "stream",
     "text": [
      "9/9 [==============================] - 1s 57ms/step - loss: 0.7918 - accuracy: 0.3049 - auc: 0.2329\n"
     ]
    },
    {
     "data": {
      "text/plain": [
       "[0.7917680144309998, 0.30489978194236755, 0.23294660449028015]"
      ]
     },
     "execution_count": 62,
     "metadata": {},
     "output_type": "execute_result"
    }
   ],
   "source": [
    "model1.evaluate(valid_data)"
   ]
  },
  {
   "cell_type": "code",
   "execution_count": 63,
   "metadata": {
    "colab": {
     "base_uri": "https://localhost:8080/"
    },
    "executionInfo": {
     "elapsed": 1354692,
     "status": "ok",
     "timestamp": 1655437393874,
     "user": {
      "displayName": "Liang Wei Ch'ng",
      "userId": "07458779485642893402"
     },
     "user_tz": -480
    },
    "id": "kseVsM1HiR9G",
    "outputId": "abee3dfa-9e17-4b0c-a28a-5541e8d8a9d3"
   },
   "outputs": [
    {
     "name": "stdout",
     "output_type": "stream",
     "text": [
      "Epoch 1/20\n",
      "71/71 [==============================] - 46s 623ms/step - loss: 0.5044 - accuracy: 0.7550 - auc: 0.8451 - val_loss: 0.1764 - val_accuracy: 0.9639 - val_auc: 0.9913\n",
      "Epoch 2/20\n",
      "71/71 [==============================] - 45s 639ms/step - loss: 0.1688 - accuracy: 0.9552 - auc: 0.9876 - val_loss: 0.0493 - val_accuracy: 0.9873 - val_auc: 0.9981\n",
      "Epoch 3/20\n",
      "71/71 [==============================] - 45s 628ms/step - loss: 0.0713 - accuracy: 0.9842 - auc: 0.9971 - val_loss: 0.0235 - val_accuracy: 0.9929 - val_auc: 0.9994\n",
      "Epoch 4/20\n",
      "71/71 [==============================] - 44s 625ms/step - loss: 0.0368 - accuracy: 0.9929 - auc: 0.9991 - val_loss: 0.0161 - val_accuracy: 0.9955 - val_auc: 0.9996\n",
      "Epoch 5/20\n",
      "71/71 [==============================] - 45s 634ms/step - loss: 0.0217 - accuracy: 0.9957 - auc: 0.9996 - val_loss: 0.0112 - val_accuracy: 0.9967 - val_auc: 0.9995\n",
      "Epoch 6/20\n",
      "71/71 [==============================] - 45s 641ms/step - loss: 0.0138 - accuracy: 0.9974 - auc: 0.9999 - val_loss: 0.0100 - val_accuracy: 0.9967 - val_auc: 0.9995\n",
      "Epoch 7/20\n",
      "71/71 [==============================] - 46s 644ms/step - loss: 0.0098 - accuracy: 0.9974 - auc: 0.9999 - val_loss: 0.0097 - val_accuracy: 0.9971 - val_auc: 0.9996\n",
      "Epoch 8/20\n",
      "71/71 [==============================] - 44s 614ms/step - loss: 0.0075 - accuracy: 0.9983 - auc: 0.9999 - val_loss: 0.0090 - val_accuracy: 0.9973 - val_auc: 0.9996\n",
      "Epoch 9/20\n",
      "71/71 [==============================] - 53s 749ms/step - loss: 0.0064 - accuracy: 0.9986 - auc: 1.0000 - val_loss: 0.0089 - val_accuracy: 0.9971 - val_auc: 0.9996\n",
      "Epoch 10/20\n",
      "71/71 [==============================] - 44s 616ms/step - loss: 0.0061 - accuracy: 0.9988 - auc: 0.9999 - val_loss: 0.0104 - val_accuracy: 0.9969 - val_auc: 0.9993\n",
      "Epoch 11/20\n",
      "71/71 [==============================] - 45s 637ms/step - loss: 0.0045 - accuracy: 0.9989 - auc: 1.0000 - val_loss: 0.0108 - val_accuracy: 0.9971 - val_auc: 0.9993\n",
      "Epoch 12/20\n",
      "71/71 [==============================] - 44s 620ms/step - loss: 0.0046 - accuracy: 0.9986 - auc: 1.0000 - val_loss: 0.0100 - val_accuracy: 0.9973 - val_auc: 0.9991\n",
      "Epoch 13/20\n",
      "71/71 [==============================] - 43s 612ms/step - loss: 0.0041 - accuracy: 0.9986 - auc: 1.0000 - val_loss: 0.0114 - val_accuracy: 0.9969 - val_auc: 0.9991\n",
      "Epoch 14/20\n",
      "71/71 [==============================] - 45s 627ms/step - loss: 0.0038 - accuracy: 0.9989 - auc: 1.0000 - val_loss: 0.0107 - val_accuracy: 0.9978 - val_auc: 0.9991\n",
      "Epoch 15/20\n",
      "71/71 [==============================] - 45s 627ms/step - loss: 0.0034 - accuracy: 0.9991 - auc: 0.9999 - val_loss: 0.0109 - val_accuracy: 0.9978 - val_auc: 0.9991\n",
      "Epoch 16/20\n",
      "71/71 [==============================] - 45s 634ms/step - loss: 0.0038 - accuracy: 0.9989 - auc: 1.0000 - val_loss: 0.0114 - val_accuracy: 0.9978 - val_auc: 0.9991\n",
      "Epoch 17/20\n",
      "71/71 [==============================] - 45s 639ms/step - loss: 0.0032 - accuracy: 0.9989 - auc: 1.0000 - val_loss: 0.0145 - val_accuracy: 0.9971 - val_auc: 0.9991\n",
      "Epoch 18/20\n",
      "71/71 [==============================] - 45s 640ms/step - loss: 0.0030 - accuracy: 0.9990 - auc: 1.0000 - val_loss: 0.0119 - val_accuracy: 0.9976 - val_auc: 0.9989\n",
      "Epoch 19/20\n",
      "71/71 [==============================] - 45s 637ms/step - loss: 0.0030 - accuracy: 0.9989 - auc: 1.0000 - val_loss: 0.0124 - val_accuracy: 0.9978 - val_auc: 0.9989\n",
      "Epoch 20/20\n",
      "71/71 [==============================] - 45s 627ms/step - loss: 0.0028 - accuracy: 0.9990 - auc: 1.0000 - val_loss: 0.0119 - val_accuracy: 0.9980 - val_auc: 0.9989\n"
     ]
    }
   ],
   "source": [
    "history1 = model1.fit(train_data, epochs=20, validation_data=valid_data)"
   ]
  },
  {
   "cell_type": "code",
   "execution_count": 64,
   "metadata": {
    "colab": {
     "base_uri": "https://localhost:8080/",
     "height": 295
    },
    "executionInfo": {
     "elapsed": 686,
     "status": "ok",
     "timestamp": 1655437394550,
     "user": {
      "displayName": "Liang Wei Ch'ng",
      "userId": "07458779485642893402"
     },
     "user_tz": -480
    },
    "id": "-NHHbyQViSCj",
    "outputId": "7454ac6f-fb12-45e2-f77f-493330d029d4"
   },
   "outputs": [
    {
     "data": {
      "image/png": "[encoded data removed]",
      "text/plain": [
       "<Figure size 432x288 with 1 Axes>"
      ]
     },
     "metadata": {
      "needs_background": "light"
     },
     "output_type": "display_data"
    }
   ],
   "source": [
    "plt.plot(history1.history['accuracy'], label=\"Training acc\")\n",
    "plt.plot(history1.history['val_accuracy'], label=\"Validation acc\")\n",
    "plt.title(\"Accuracy of Model\")\n",
    "plt.ylabel(\"Accuracy\")\n",
    "plt.xlabel(\"Epoch\")\n",
    "plt.legend()\n",
    "plt.show()"
   ]
  },
  {
   "cell_type": "code",
   "execution_count": 65,
   "metadata": {
    "colab": {
     "base_uri": "https://localhost:8080/",
     "height": 295
    },
    "executionInfo": {
     "elapsed": 5,
     "status": "ok",
     "timestamp": 1655437394551,
     "user": {
      "displayName": "Liang Wei Ch'ng",
      "userId": "07458779485642893402"
     },
     "user_tz": -480
    },
    "id": "iodwV7qPiSGd",
    "outputId": "1c764ddd-89a7-44d9-d8d2-00d7610e8161"
   },
   "outputs": [
    {
     "data": {
      "image/png": "[encoded data removed]",
      "text/plain": [
       "<Figure size 432x288 with 1 Axes>"
      ]
     },
     "metadata": {
      "needs_background": "light"
     },
     "output_type": "display_data"
    }
   ],
   "source": [
    "plt.plot(history1.history['loss'], label=\"Training loss\")\n",
    "plt.plot(history1.history['val_loss'], label=\"Validation loss\")\n",
    "plt.title(\"Loss of Model\")\n",
    "plt.ylabel(\"Loss\")\n",
    "plt.xlabel(\"Epoch\")\n",
    "plt.legend()\n",
    "plt.show()"
   ]
  },
  {
   "cell_type": "code",
   "execution_count": 66,
   "metadata": {
    "colab": {
     "base_uri": "https://localhost:8080/"
    },
    "executionInfo": {
     "elapsed": 1341,
     "status": "ok",
     "timestamp": 1655437395887,
     "user": {
      "displayName": "Liang Wei Ch'ng",
      "userId": "07458779485642893402"
     },
     "user_tz": -480
    },
    "id": "eynV-_7XiSL0",
    "outputId": "04786707-34be-455a-8086-99571ae4abd9"
   },
   "outputs": [
    {
     "name": "stdout",
     "output_type": "stream",
     "text": [
      "9/9 [==============================] - 1s 96ms/step - loss: 0.0085 - accuracy: 0.9971 - auc: 0.9996\n"
     ]
    },
    {
     "data": {
      "text/plain": [
       "[0.008517567999660969, 0.9971047043800354, 0.9995682239532471]"
      ]
     },
     "execution_count": 66,
     "metadata": {},
     "output_type": "execute_result"
    }
   ],
   "source": [
    "model1.evaluate(test_data)"
   ]
  },
  {
   "cell_type": "code",
   "execution_count": null,
   "metadata": {
    "id": "dLr3flDeUu1X"
   },
   "outputs": [],
   "source": []
  }
 ],
 "metadata": {
  "colab": {
   "authorship_tag": "ABX9TyMABmeW1JAZobMqRNvm+aUm",
   "collapsed_sections": [],
   "name": "fake news detection.ipynb",
   "provenance": [
    {
     "file_id": "1Xggn4WLI77WUNcLXIfG0y3be_4YdFfWq",
     "timestamp": 1655433135014
    },
    {
     "file_id": "1bSNF9Sb1kqqzNAvIp_NHB7FHle6Hx3Bg",
     "timestamp": 1655368800409
    }
   ]
  },
  "kernelspec": {
   "display_name": "Python 3 (ipykernel)",
   "language": "python",
   "name": "python3"
  },
  "language_info": {
   "codemirror_mode": {
    "name": "ipython",
    "version": 3
   },
   "file_extension": ".py",
   "mimetype": "text/x-python",
   "name": "python",
   "nbconvert_exporter": "python",
   "pygments_lexer": "ipython3",
   "version": "3.9.10"
  }
 },
 "nbformat": 4,
 "nbformat_minor": 1
}
