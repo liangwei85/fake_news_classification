{
 "cells": [
  {
   "cell_type": "code",
   "execution_count": 1,
   "metadata": {
    "executionInfo": {
     "elapsed": 329,
     "status": "ok",
     "timestamp": 1655435861931,
     "user": {
      "displayName": "Liang Wei Ch'ng",
      "userId": "07458779485642893402"
     },
     "user_tz": -480
    },
    "id": "2ngNpdEIc5JR"
   },
   "outputs": [],
   "source": [
    "import numpy as np\n",
    "import pandas as pd\n",
    "import matplotlib.pyplot as plt\n",
    "\n",
    "import tensorflow as tf\n",
    "import tensorflow_hub as hub"
   ]
  },
  {
   "cell_type": "markdown",
   "metadata": {},
   "source": [
    "## Data Ingestion"
   ]
  },
  {
   "cell_type": "code",
   "execution_count": 2,
   "metadata": {
    "executionInfo": {
     "elapsed": 2498,
     "status": "ok",
     "timestamp": 1655435257065,
     "user": {
      "displayName": "Liang Wei Ch'ng",
      "userId": "07458779485642893402"
     },
     "user_tz": -480
    },
    "id": "jr6CCvaUZMnv"
   },
   "outputs": [],
   "source": [
    "df_true  = pd.read_csv('True.csv')\n",
    "df_fake  = pd.read_csv('Fake.csv')"
   ]
  },
  {
   "cell_type": "markdown",
   "metadata": {},
   "source": [
    "## Preprocessing"
   ]
  },
  {
   "cell_type": "code",
   "execution_count": 3,
   "metadata": {
    "executionInfo": {
     "elapsed": 1,
     "status": "ok",
     "timestamp": 1655435863271,
     "user": {
      "displayName": "Liang Wei Ch'ng",
      "userId": "07458779485642893402"
     },
     "user_tz": -480
    },
    "id": "aTMu4muYjAns"
   },
   "outputs": [],
   "source": [
    "df_true['label'] = 1\n",
    "df_fake['label'] = 0"
   ]
  },
  {
   "cell_type": "code",
   "execution_count": 4,
   "metadata": {
    "executionInfo": {
     "elapsed": 1,
     "status": "ok",
     "timestamp": 1655435863755,
     "user": {
      "displayName": "Liang Wei Ch'ng",
      "userId": "07458779485642893402"
     },
     "user_tz": -480
    },
    "id": "PNBoDSAujw9k"
   },
   "outputs": [],
   "source": [
    "df = pd.concat([df_true,df_fake],ignore_index=True)"
   ]
  },
  {
   "cell_type": "code",
   "execution_count": 5,
   "metadata": {
    "colab": {
     "base_uri": "https://localhost:8080/",
     "height": 206
    },
    "executionInfo": {
     "elapsed": 3,
     "status": "ok",
     "timestamp": 1655435864597,
     "user": {
      "displayName": "Liang Wei Ch'ng",
      "userId": "07458779485642893402"
     },
     "user_tz": -480
    },
    "id": "Vv1826U7miFu",
    "outputId": "50b89b37-2fd2-4883-e216-6b2e9bbdcd5a"
   },
   "outputs": [
    {
     "data": {
      "text/html": [
       "<div>\n",
       "<style scoped>\n",
       "    .dataframe tbody tr th:only-of-type {\n",
       "        vertical-align: middle;\n",
       "    }\n",
       "\n",
       "    .dataframe tbody tr th {\n",
       "        vertical-align: top;\n",
       "    }\n",
       "\n",
       "    .dataframe thead th {\n",
       "        text-align: right;\n",
       "    }\n",
       "</style>\n",
       "<table border=\"1\" class=\"dataframe\">\n",
       "  <thead>\n",
       "    <tr style=\"text-align: right;\">\n",
       "      <th></th>\n",
       "      <th>title</th>\n",
       "      <th>text</th>\n",
       "      <th>subject</th>\n",
       "      <th>date</th>\n",
       "      <th>label</th>\n",
       "    </tr>\n",
       "  </thead>\n",
       "  <tbody>\n",
       "    <tr>\n",
       "      <th>0</th>\n",
       "      <td>As U.S. budget fight looms, Republicans flip t...</td>\n",
       "      <td>WASHINGTON (Reuters) - The head of a conservat...</td>\n",
       "      <td>politicsNews</td>\n",
       "      <td>December 31, 2017</td>\n",
       "      <td>1</td>\n",
       "    </tr>\n",
       "    <tr>\n",
       "      <th>1</th>\n",
       "      <td>U.S. military to accept transgender recruits o...</td>\n",
       "      <td>WASHINGTON (Reuters) - Transgender people will...</td>\n",
       "      <td>politicsNews</td>\n",
       "      <td>December 29, 2017</td>\n",
       "      <td>1</td>\n",
       "    </tr>\n",
       "    <tr>\n",
       "      <th>2</th>\n",
       "      <td>Senior U.S. Republican senator: 'Let Mr. Muell...</td>\n",
       "      <td>WASHINGTON (Reuters) - The special counsel inv...</td>\n",
       "      <td>politicsNews</td>\n",
       "      <td>December 31, 2017</td>\n",
       "      <td>1</td>\n",
       "    </tr>\n",
       "    <tr>\n",
       "      <th>3</th>\n",
       "      <td>FBI Russia probe helped by Australian diplomat...</td>\n",
       "      <td>WASHINGTON (Reuters) - Trump campaign adviser ...</td>\n",
       "      <td>politicsNews</td>\n",
       "      <td>December 30, 2017</td>\n",
       "      <td>1</td>\n",
       "    </tr>\n",
       "    <tr>\n",
       "      <th>4</th>\n",
       "      <td>Trump wants Postal Service to charge 'much mor...</td>\n",
       "      <td>SEATTLE/WASHINGTON (Reuters) - President Donal...</td>\n",
       "      <td>politicsNews</td>\n",
       "      <td>December 29, 2017</td>\n",
       "      <td>1</td>\n",
       "    </tr>\n",
       "  </tbody>\n",
       "</table>\n",
       "</div>"
      ],
      "text/plain": [
       "                                               title  \\\n",
       "0  As U.S. budget fight looms, Republicans flip t...   \n",
       "1  U.S. military to accept transgender recruits o...   \n",
       "2  Senior U.S. Republican senator: 'Let Mr. Muell...   \n",
       "3  FBI Russia probe helped by Australian diplomat...   \n",
       "4  Trump wants Postal Service to charge 'much mor...   \n",
       "\n",
       "                                                text       subject  \\\n",
       "0  WASHINGTON (Reuters) - The head of a conservat...  politicsNews   \n",
       "1  WASHINGTON (Reuters) - Transgender people will...  politicsNews   \n",
       "2  WASHINGTON (Reuters) - The special counsel inv...  politicsNews   \n",
       "3  WASHINGTON (Reuters) - Trump campaign adviser ...  politicsNews   \n",
       "4  SEATTLE/WASHINGTON (Reuters) - President Donal...  politicsNews   \n",
       "\n",
       "                 date  label  \n",
       "0  December 31, 2017       1  \n",
       "1  December 29, 2017       1  \n",
       "2  December 31, 2017       1  \n",
       "3  December 30, 2017       1  \n",
       "4  December 29, 2017       1  "
      ]
     },
     "execution_count": 5,
     "metadata": {},
     "output_type": "execute_result"
    }
   ],
   "source": [
    "df.head()"
   ]
  },
  {
   "cell_type": "code",
   "execution_count": 6,
   "metadata": {
    "colab": {
     "base_uri": "https://localhost:8080/"
    },
    "executionInfo": {
     "elapsed": 324,
     "status": "ok",
     "timestamp": 1655435866339,
     "user": {
      "displayName": "Liang Wei Ch'ng",
      "userId": "07458779485642893402"
     },
     "user_tz": -480
    },
    "id": "kWGV42ppqXf9",
    "outputId": "2464f6ca-2d54-4d90-c7c8-b46faa1981ad"
   },
   "outputs": [
    {
     "data": {
      "text/plain": [
       "title      object\n",
       "text       object\n",
       "subject    object\n",
       "date       object\n",
       "label       int64\n",
       "dtype: object"
      ]
     },
     "execution_count": 6,
     "metadata": {},
     "output_type": "execute_result"
    }
   ],
   "source": [
    "df.dtypes"
   ]
  },
  {
   "cell_type": "code",
   "execution_count": 7,
   "metadata": {
    "executionInfo": {
     "elapsed": 404,
     "status": "ok",
     "timestamp": 1655435962488,
     "user": {
      "displayName": "Liang Wei Ch'ng",
      "userId": "07458779485642893402"
     },
     "user_tz": -480
    },
    "id": "9jpouM-Dqy-6"
   },
   "outputs": [],
   "source": [
    "df['label'] = df['label'].astype(int)"
   ]
  },
  {
   "cell_type": "code",
   "execution_count": 8,
   "metadata": {
    "executionInfo": {
     "elapsed": 282,
     "status": "ok",
     "timestamp": 1655435627035,
     "user": {
      "displayName": "Liang Wei Ch'ng",
      "userId": "07458779485642893402"
     },
     "user_tz": -480
    },
    "id": "-xG41HIgpmfN"
   },
   "outputs": [],
   "source": [
    "df.dropna(inplace=True)"
   ]
  },
  {
   "cell_type": "code",
   "execution_count": 9,
   "metadata": {
    "executionInfo": {
     "elapsed": 456,
     "status": "ok",
     "timestamp": 1655435630960,
     "user": {
      "displayName": "Liang Wei Ch'ng",
      "userId": "07458779485642893402"
     },
     "user_tz": -480
    },
    "id": "5Es4FFf3jJeq"
   },
   "outputs": [],
   "source": [
    "df.drop(['title','subject','date'] ,axis=1, inplace=True)"
   ]
  },
  {
   "cell_type": "code",
   "execution_count": 10,
   "metadata": {
    "colab": {
     "base_uri": "https://localhost:8080/",
     "height": 206
    },
    "executionInfo": {
     "elapsed": 3,
     "status": "ok",
     "timestamp": 1655435632392,
     "user": {
      "displayName": "Liang Wei Ch'ng",
      "userId": "07458779485642893402"
     },
     "user_tz": -480
    },
    "id": "Kg7konWvd0B_",
    "outputId": "e1f3cbce-ce42-4854-bc73-eea49962c586"
   },
   "outputs": [
    {
     "data": {
      "text/html": [
       "<div>\n",
       "<style scoped>\n",
       "    .dataframe tbody tr th:only-of-type {\n",
       "        vertical-align: middle;\n",
       "    }\n",
       "\n",
       "    .dataframe tbody tr th {\n",
       "        vertical-align: top;\n",
       "    }\n",
       "\n",
       "    .dataframe thead th {\n",
       "        text-align: right;\n",
       "    }\n",
       "</style>\n",
       "<table border=\"1\" class=\"dataframe\">\n",
       "  <thead>\n",
       "    <tr style=\"text-align: right;\">\n",
       "      <th></th>\n",
       "      <th>text</th>\n",
       "      <th>label</th>\n",
       "    </tr>\n",
       "  </thead>\n",
       "  <tbody>\n",
       "    <tr>\n",
       "      <th>0</th>\n",
       "      <td>WASHINGTON (Reuters) - The head of a conservat...</td>\n",
       "      <td>1</td>\n",
       "    </tr>\n",
       "    <tr>\n",
       "      <th>1</th>\n",
       "      <td>WASHINGTON (Reuters) - Transgender people will...</td>\n",
       "      <td>1</td>\n",
       "    </tr>\n",
       "    <tr>\n",
       "      <th>2</th>\n",
       "      <td>WASHINGTON (Reuters) - The special counsel inv...</td>\n",
       "      <td>1</td>\n",
       "    </tr>\n",
       "    <tr>\n",
       "      <th>3</th>\n",
       "      <td>WASHINGTON (Reuters) - Trump campaign adviser ...</td>\n",
       "      <td>1</td>\n",
       "    </tr>\n",
       "    <tr>\n",
       "      <th>4</th>\n",
       "      <td>SEATTLE/WASHINGTON (Reuters) - President Donal...</td>\n",
       "      <td>1</td>\n",
       "    </tr>\n",
       "  </tbody>\n",
       "</table>\n",
       "</div>"
      ],
      "text/plain": [
       "                                                text  label\n",
       "0  WASHINGTON (Reuters) - The head of a conservat...      1\n",
       "1  WASHINGTON (Reuters) - Transgender people will...      1\n",
       "2  WASHINGTON (Reuters) - The special counsel inv...      1\n",
       "3  WASHINGTON (Reuters) - Trump campaign adviser ...      1\n",
       "4  SEATTLE/WASHINGTON (Reuters) - President Donal...      1"
      ]
     },
     "execution_count": 10,
     "metadata": {},
     "output_type": "execute_result"
    }
   ],
   "source": [
    "df.head()"
   ]
  },
  {
   "cell_type": "markdown",
   "metadata": {},
   "source": [
    "## Train, Validation & Test Split (80 : 10 : 10)"
   ]
  },
  {
   "cell_type": "code",
   "execution_count": 11,
   "metadata": {
    "executionInfo": {
     "elapsed": 307,
     "status": "ok",
     "timestamp": 1655435996381,
     "user": {
      "displayName": "Liang Wei Ch'ng",
      "userId": "07458779485642893402"
     },
     "user_tz": -480
    },
    "id": "_1h17RKmd2AN"
   },
   "outputs": [],
   "source": [
    "train, val, test = np.split(df.sample(frac=1), [int(0.8*len(df)), int(0.9*len(df))])"
   ]
  },
  {
   "cell_type": "code",
   "execution_count": 12,
   "metadata": {
    "colab": {
     "base_uri": "https://localhost:8080/"
    },
    "executionInfo": {
     "elapsed": 1,
     "status": "ok",
     "timestamp": 1655435996889,
     "user": {
      "displayName": "Liang Wei Ch'ng",
      "userId": "07458779485642893402"
     },
     "user_tz": -480
    },
    "id": "igVDHiRud2E2",
    "outputId": "de86d0b8-4dfa-4732-d919-6d4d7436483a"
   },
   "outputs": [
    {
     "data": {
      "text/plain": [
       "(35918, 4490, 4490)"
      ]
     },
     "execution_count": 12,
     "metadata": {},
     "output_type": "execute_result"
    }
   ],
   "source": [
    "len(train), len(val), len(test)"
   ]
  },
  {
   "cell_type": "markdown",
   "metadata": {},
   "source": [
    "### Convert Pandas into Tensors"
   ]
  },
  {
   "cell_type": "code",
   "execution_count": 13,
   "metadata": {
    "executionInfo": {
     "elapsed": 309,
     "status": "ok",
     "timestamp": 1655435771412,
     "user": {
      "displayName": "Liang Wei Ch'ng",
      "userId": "07458779485642893402"
     },
     "user_tz": -480
    },
    "id": "mxCE7fsdd2I-"
   },
   "outputs": [],
   "source": [
    "### Convert Pandas into Tensors Function\n",
    "def df_to_dataset(dataframe, shuffle=True, batch_size=512):\n",
    "  df = dataframe.copy()\n",
    "  labels = df.pop('label')\n",
    "  df = df[\"text\"]\n",
    "  ds = tf.data.Dataset.from_tensor_slices((df, labels))\n",
    "  if shuffle:\n",
    "    ds = ds.shuffle(buffer_size=len(dataframe))\n",
    "  ds = ds.batch(batch_size)\n",
    "  ds = ds.prefetch(tf.data.AUTOTUNE)\n",
    "  return ds"
   ]
  },
  {
   "cell_type": "code",
   "execution_count": 14,
   "metadata": {
    "executionInfo": {
     "elapsed": 484,
     "status": "ok",
     "timestamp": 1655435998838,
     "user": {
      "displayName": "Liang Wei Ch'ng",
      "userId": "07458779485642893402"
     },
     "user_tz": -480
    },
    "id": "jXcdF9JViQg2"
   },
   "outputs": [],
   "source": [
    "## Converting\n",
    "train_data = df_to_dataset(train)\n",
    "valid_data = df_to_dataset(val)\n",
    "test_data = df_to_dataset(test)"
   ]
  },
  {
   "cell_type": "markdown",
   "metadata": {
    "id": "QQhvgMyzfEKk"
   },
   "source": [
    "## Embedding + Model\n"
   ]
  },
  {
   "cell_type": "markdown",
   "metadata": {},
   "source": [
    "## Word embeddings\n",
    "\n",
    "Word embeddings give us a way to use an efficient, dense representation in which similar words have a similar encoding. Importantly, you do not have to specify this encoding by hand. \n",
    "\n",
    "An embedding is a dense vector of floating point values (the length of the vector is a parameter you specify). \n",
    "\n",
    "Instead of specifying the values for the embedding manually, they are trainable parameters (weights learned by the model during training, in the same way a model learns weights for a dense layer). \n",
    "\n",
    "It is common to see word embeddings that are 8-dimensional (for small datasets), up to 1024-dimensions when working with large datasets. A higher dimensional embedding can capture fine-grained relationships between words, but takes more data to learn.\n",
    "\n",
    "https://www.tensorflow.org/text/guide/word_embeddings#:~:text=An%20embedding%20is%20a%20dense,weights%20for%20a%20dense%20layer)."
   ]
  },
  {
   "cell_type": "code",
   "execution_count": 15,
   "metadata": {
    "executionInfo": {
     "elapsed": 1027,
     "status": "ok",
     "timestamp": 1655436010821,
     "user": {
      "displayName": "Liang Wei Ch'ng",
      "userId": "07458779485642893402"
     },
     "user_tz": -480
    },
    "id": "ddklEieYiRhH"
   },
   "outputs": [],
   "source": [
    "### Load Embedding from Tensorflow Hub\n",
    "embedding = \"https://tfhub.dev/google/nnlm-en-dim50/2\"\n",
    "hub_layer = hub.KerasLayer(embedding, dtype=tf.string, trainable=True)"
   ]
  },
  {
   "cell_type": "code",
   "execution_count": 16,
   "metadata": {
    "colab": {
     "base_uri": "https://localhost:8080/"
    },
    "executionInfo": {
     "elapsed": 504,
     "status": "ok",
     "timestamp": 1655436011324,
     "user": {
      "displayName": "Liang Wei Ch'ng",
      "userId": "07458779485642893402"
     },
     "user_tz": -480
    },
    "id": "T25kKknFiRl0",
    "outputId": "f5a52696-eb0a-4a4c-f601-d5b5984f01e3"
   },
   "outputs": [
    {
     "data": {
      "text/plain": [
       "<tf.Tensor: shape=(512, 50), dtype=float32, numpy=\n",
       "array([[ 1.3131764 ,  0.07953814, -0.16234626, ..., -0.4159042 ,\n",
       "        -0.13674702, -0.6442992 ],\n",
       "       [ 1.3544304 ,  1.0034648 ,  0.47337195, ..., -0.38916913,\n",
       "        -0.82601964, -0.7188742 ],\n",
       "       [ 1.1988777 ,  0.52169776, -0.05533645, ..., -0.3359296 ,\n",
       "        -0.18071195, -0.14942886],\n",
       "       ...,\n",
       "       [ 0.5523421 ,  0.8431964 ,  0.23348646, ..., -0.02175691,\n",
       "        -0.29126716, -0.48622093],\n",
       "       [ 0.28120315,  0.36527687,  0.10531446, ...,  0.11882182,\n",
       "        -0.1746906 , -0.23092602],\n",
       "       [ 0.6359905 ,  0.32561597,  0.29788283, ...,  0.13507915,\n",
       "        -0.43898144, -0.00224022]], dtype=float32)>"
      ]
     },
     "execution_count": 16,
     "metadata": {},
     "output_type": "execute_result"
    }
   ],
   "source": [
    "## Check out transformed word embeddings\n",
    "hub_layer(list(train_data)[0][0])"
   ]
  },
  {
   "cell_type": "code",
   "execution_count": 17,
   "metadata": {
    "executionInfo": {
     "elapsed": 418,
     "status": "ok",
     "timestamp": 1655436016252,
     "user": {
      "displayName": "Liang Wei Ch'ng",
      "userId": "07458779485642893402"
     },
     "user_tz": -480
    },
    "id": "fpoA9mSpiRq8"
   },
   "outputs": [],
   "source": [
    "## Building the model using Keras\n",
    "model1 = tf.keras.Sequential()\n",
    "model1.add(hub_layer)\n",
    "model1.add(tf.keras.layers.Dense(16, activation='relu'))\n",
    "model1.add(tf.keras.layers.Dropout(0.4))\n",
    "model1.add(tf.keras.layers.Dense(16, activation='relu'))\n",
    "model1.add(tf.keras.layers.Dropout(0.4))\n",
    "model1.add(tf.keras.layers.Dense(1, activation='sigmoid'))"
   ]
  },
  {
   "cell_type": "code",
   "execution_count": 18,
   "metadata": {
    "executionInfo": {
     "elapsed": 495,
     "status": "ok",
     "timestamp": 1655436018903,
     "user": {
      "displayName": "Liang Wei Ch'ng",
      "userId": "07458779485642893402"
     },
     "user_tz": -480
    },
    "id": "Obeiq6FCiRvU"
   },
   "outputs": [],
   "source": [
    "model1.compile(optimizer=tf.keras.optimizers.Adam(learning_rate=0.001),\n",
    "              loss=tf.keras.losses.BinaryCrossentropy(),\n",
    "              metrics=['accuracy','AUC'])"
   ]
  },
  {
   "cell_type": "markdown",
   "metadata": {},
   "source": [
    "### Base Line Tests"
   ]
  },
  {
   "cell_type": "code",
   "execution_count": 19,
   "metadata": {
    "colab": {
     "base_uri": "https://localhost:8080/"
    },
    "executionInfo": {
     "elapsed": 6075,
     "status": "ok",
     "timestamp": 1655436026186,
     "user": {
      "displayName": "Liang Wei Ch'ng",
      "userId": "07458779485642893402"
     },
     "user_tz": -480
    },
    "id": "4eLvZqJ1iRzr",
    "outputId": "81b24bf9-dfd0-4cfc-f642-a694408f7166"
   },
   "outputs": [
    {
     "name": "stdout",
     "output_type": "stream",
     "text": [
      "71/71 [==============================] - 6s 59ms/step - loss: 0.6923 - accuracy: 0.5191 - auc: 0.5284\n"
     ]
    },
    {
     "data": {
      "text/plain": [
       "[0.6923465132713318, 0.5191268920898438, 0.5284261703491211]"
      ]
     },
     "execution_count": 19,
     "metadata": {},
     "output_type": "execute_result"
    }
   ],
   "source": [
    "model1.evaluate(train_data)"
   ]
  },
  {
   "cell_type": "code",
   "execution_count": 20,
   "metadata": {
    "colab": {
     "base_uri": "https://localhost:8080/"
    },
    "executionInfo": {
     "elapsed": 962,
     "status": "ok",
     "timestamp": 1655436027140,
     "user": {
      "displayName": "Liang Wei Ch'ng",
      "userId": "07458779485642893402"
     },
     "user_tz": -480
    },
    "id": "TAKiH2rliR4H",
    "outputId": "452b2ed0-987b-4460-aa1d-c8fb5cd35da1"
   },
   "outputs": [
    {
     "name": "stdout",
     "output_type": "stream",
     "text": [
      "9/9 [==============================] - 1s 75ms/step - loss: 0.6913 - accuracy: 0.5216 - auc: 0.5322\n"
     ]
    },
    {
     "data": {
      "text/plain": [
       "[0.6913354396820068, 0.5216035842895508, 0.5321739315986633]"
      ]
     },
     "execution_count": 20,
     "metadata": {},
     "output_type": "execute_result"
    }
   ],
   "source": [
    "model1.evaluate(valid_data)"
   ]
  },
  {
   "cell_type": "markdown",
   "metadata": {},
   "source": [
    "## Train Fake News Model with history"
   ]
  },
  {
   "cell_type": "code",
   "execution_count": 21,
   "metadata": {
    "colab": {
     "base_uri": "https://localhost:8080/"
    },
    "executionInfo": {
     "elapsed": 1354692,
     "status": "ok",
     "timestamp": 1655437393874,
     "user": {
      "displayName": "Liang Wei Ch'ng",
      "userId": "07458779485642893402"
     },
     "user_tz": -480
    },
    "id": "kseVsM1HiR9G",
    "outputId": "abee3dfa-9e17-4b0c-a28a-5541e8d8a9d3"
   },
   "outputs": [
    {
     "name": "stdout",
     "output_type": "stream",
     "text": [
      "Epoch 1/30\n",
      "71/71 [==============================] - 8s 94ms/step - loss: 0.5131 - accuracy: 0.7691 - auc: 0.8586 - val_loss: 0.2217 - val_accuracy: 0.9575 - val_auc: 0.9893\n",
      "Epoch 2/30\n",
      "71/71 [==============================] - 7s 100ms/step - loss: 0.1954 - accuracy: 0.9493 - auc: 0.9839 - val_loss: 0.0591 - val_accuracy: 0.9862 - val_auc: 0.9981\n",
      "Epoch 3/30\n",
      "71/71 [==============================] - 7s 97ms/step - loss: 0.0861 - accuracy: 0.9827 - auc: 0.9964 - val_loss: 0.0290 - val_accuracy: 0.9918 - val_auc: 0.9993\n",
      "Epoch 4/30\n",
      "71/71 [==============================] - 8s 105ms/step - loss: 0.0430 - accuracy: 0.9920 - auc: 0.9988 - val_loss: 0.0251 - val_accuracy: 0.9933 - val_auc: 0.9987\n",
      "Epoch 5/30\n",
      "71/71 [==============================] - 8s 115ms/step - loss: 0.0229 - accuracy: 0.9949 - auc: 0.9995 - val_loss: 0.0250 - val_accuracy: 0.9938 - val_auc: 0.9983\n",
      "Epoch 6/30\n",
      "71/71 [==============================] - 9s 120ms/step - loss: 0.0152 - accuracy: 0.9964 - auc: 0.9998 - val_loss: 0.0221 - val_accuracy: 0.9951 - val_auc: 0.9981\n",
      "Epoch 7/30\n",
      "71/71 [==============================] - 8s 115ms/step - loss: 0.0122 - accuracy: 0.9965 - auc: 0.9999 - val_loss: 0.0214 - val_accuracy: 0.9958 - val_auc: 0.9984\n",
      "Epoch 8/30\n",
      "71/71 [==============================] - 8s 107ms/step - loss: 0.0095 - accuracy: 0.9974 - auc: 0.9999 - val_loss: 0.0230 - val_accuracy: 0.9958 - val_auc: 0.9977\n",
      "Epoch 9/30\n",
      "71/71 [==============================] - 8s 106ms/step - loss: 0.0064 - accuracy: 0.9984 - auc: 1.0000 - val_loss: 0.0246 - val_accuracy: 0.9960 - val_auc: 0.9977\n",
      "Epoch 10/30\n",
      "71/71 [==============================] - 7s 96ms/step - loss: 0.0051 - accuracy: 0.9988 - auc: 1.0000 - val_loss: 0.0263 - val_accuracy: 0.9958 - val_auc: 0.9975\n",
      "Epoch 11/30\n",
      "71/71 [==============================] - 7s 101ms/step - loss: 0.0046 - accuracy: 0.9985 - auc: 1.0000 - val_loss: 0.0324 - val_accuracy: 0.9951 - val_auc: 0.9975\n",
      "Epoch 12/30\n",
      "71/71 [==============================] - 7s 99ms/step - loss: 0.0047 - accuracy: 0.9987 - auc: 1.0000 - val_loss: 0.0316 - val_accuracy: 0.9955 - val_auc: 0.9975\n",
      "Epoch 13/30\n",
      "71/71 [==============================] - 7s 103ms/step - loss: 0.0037 - accuracy: 0.9988 - auc: 1.0000 - val_loss: 0.0301 - val_accuracy: 0.9958 - val_auc: 0.9975\n",
      "Epoch 14/30\n",
      "71/71 [==============================] - 7s 100ms/step - loss: 0.0038 - accuracy: 0.9987 - auc: 1.0000 - val_loss: 0.0324 - val_accuracy: 0.9958 - val_auc: 0.9975\n",
      "Epoch 15/30\n",
      "71/71 [==============================] - 7s 101ms/step - loss: 0.0034 - accuracy: 0.9988 - auc: 1.0000 - val_loss: 0.0352 - val_accuracy: 0.9953 - val_auc: 0.9971\n",
      "Epoch 16/30\n",
      "71/71 [==============================] - 7s 101ms/step - loss: 0.0034 - accuracy: 0.9988 - auc: 1.0000 - val_loss: 0.0316 - val_accuracy: 0.9964 - val_auc: 0.9973\n",
      "Epoch 17/30\n",
      "71/71 [==============================] - 7s 101ms/step - loss: 0.0039 - accuracy: 0.9991 - auc: 0.9999 - val_loss: 0.0303 - val_accuracy: 0.9962 - val_auc: 0.9973\n",
      "Epoch 18/30\n",
      "71/71 [==============================] - 7s 100ms/step - loss: 0.0030 - accuracy: 0.9989 - auc: 1.0000 - val_loss: 0.0320 - val_accuracy: 0.9958 - val_auc: 0.9973\n",
      "Epoch 19/30\n",
      "71/71 [==============================] - 7s 99ms/step - loss: 0.0026 - accuracy: 0.9990 - auc: 1.0000 - val_loss: 0.0301 - val_accuracy: 0.9964 - val_auc: 0.9976\n",
      "Epoch 20/30\n",
      "71/71 [==============================] - 7s 98ms/step - loss: 0.0033 - accuracy: 0.9987 - auc: 1.0000 - val_loss: 0.0332 - val_accuracy: 0.9958 - val_auc: 0.9971\n",
      "Epoch 21/30\n",
      "71/71 [==============================] - 7s 99ms/step - loss: 0.0027 - accuracy: 0.9991 - auc: 1.0000 - val_loss: 0.0336 - val_accuracy: 0.9960 - val_auc: 0.9973\n",
      "Epoch 22/30\n",
      "71/71 [==============================] - 7s 101ms/step - loss: 0.0025 - accuracy: 0.9991 - auc: 1.0000 - val_loss: 0.0348 - val_accuracy: 0.9962 - val_auc: 0.9975\n",
      "Epoch 23/30\n",
      "71/71 [==============================] - 7s 99ms/step - loss: 0.0027 - accuracy: 0.9991 - auc: 1.0000 - val_loss: 0.0420 - val_accuracy: 0.9953 - val_auc: 0.9969\n",
      "Epoch 24/30\n",
      "71/71 [==============================] - 7s 103ms/step - loss: 0.0020 - accuracy: 0.9995 - auc: 1.0000 - val_loss: 0.0401 - val_accuracy: 0.9958 - val_auc: 0.9967\n",
      "Epoch 25/30\n",
      "71/71 [==============================] - 7s 99ms/step - loss: 0.0024 - accuracy: 0.9993 - auc: 1.0000 - val_loss: 0.0401 - val_accuracy: 0.9958 - val_auc: 0.9967\n",
      "Epoch 26/30\n",
      "71/71 [==============================] - 7s 101ms/step - loss: 0.0020 - accuracy: 0.9994 - auc: 1.0000 - val_loss: 0.0399 - val_accuracy: 0.9958 - val_auc: 0.9969\n",
      "Epoch 27/30\n",
      "71/71 [==============================] - 7s 103ms/step - loss: 0.0023 - accuracy: 0.9992 - auc: 1.0000 - val_loss: 0.0405 - val_accuracy: 0.9960 - val_auc: 0.9969\n",
      "Epoch 28/30\n",
      "71/71 [==============================] - 7s 97ms/step - loss: 0.0020 - accuracy: 0.9993 - auc: 1.0000 - val_loss: 0.0421 - val_accuracy: 0.9960 - val_auc: 0.9967\n",
      "Epoch 29/30\n",
      "71/71 [==============================] - 7s 96ms/step - loss: 0.0019 - accuracy: 0.9991 - auc: 1.0000 - val_loss: 0.0428 - val_accuracy: 0.9960 - val_auc: 0.9967\n",
      "Epoch 30/30\n",
      "71/71 [==============================] - 7s 98ms/step - loss: 0.0026 - accuracy: 0.9994 - auc: 1.0000 - val_loss: 0.0409 - val_accuracy: 0.9962 - val_auc: 0.9976\n"
     ]
    }
   ],
   "source": [
    "history1 = model1.fit(train_data, epochs=30, validation_data=valid_data)"
   ]
  },
  {
   "cell_type": "markdown",
   "metadata": {},
   "source": [
    "### Visualize Training History"
   ]
  },
  {
   "cell_type": "code",
   "execution_count": 22,
   "metadata": {
    "colab": {
     "base_uri": "https://localhost:8080/",
     "height": 295
    },
    "executionInfo": {
     "elapsed": 686,
     "status": "ok",
     "timestamp": 1655437394550,
     "user": {
      "displayName": "Liang Wei Ch'ng",
      "userId": "07458779485642893402"
     },
     "user_tz": -480
    },
    "id": "-NHHbyQViSCj",
    "outputId": "7454ac6f-fb12-45e2-f77f-493330d029d4"
   },
   "outputs": [
    {
     "data": {
      "image/png": "[encoded data removed]",
      "text/plain": [
       "<Figure size 432x288 with 1 Axes>"
      ]
     },
     "metadata": {
      "needs_background": "light"
     },
     "output_type": "display_data"
    }
   ],
   "source": [
    "plt.plot(history1.history['accuracy'], label=\"Training acc\")\n",
    "plt.plot(history1.history['val_accuracy'], label=\"Validation acc\")\n",
    "plt.title(\"Accuracy of Model\")\n",
    "plt.ylabel(\"Accuracy\")\n",
    "plt.xlabel(\"Epoch\")\n",
    "plt.legend()\n",
    "plt.show()"
   ]
  },
  {
   "cell_type": "code",
   "execution_count": 23,
   "metadata": {
    "colab": {
     "base_uri": "https://localhost:8080/",
     "height": 295
    },
    "executionInfo": {
     "elapsed": 5,
     "status": "ok",
     "timestamp": 1655437394551,
     "user": {
      "displayName": "Liang Wei Ch'ng",
      "userId": "07458779485642893402"
     },
     "user_tz": -480
    },
    "id": "iodwV7qPiSGd",
    "outputId": "1c764ddd-89a7-44d9-d8d2-00d7610e8161"
   },
   "outputs": [
    {
     "data": {
      "image/png": "[encoded data removed]",
      "text/plain": [
       "<Figure size 432x288 with 1 Axes>"
      ]
     },
     "metadata": {
      "needs_background": "light"
     },
     "output_type": "display_data"
    }
   ],
   "source": [
    "plt.plot(history1.history['loss'], label=\"Training loss\")\n",
    "plt.plot(history1.history['val_loss'], label=\"Validation loss\")\n",
    "plt.title(\"Loss of Model\")\n",
    "plt.ylabel(\"Loss\")\n",
    "plt.xlabel(\"Epoch\")\n",
    "plt.legend()\n",
    "plt.show()"
   ]
  },
  {
   "cell_type": "code",
   "execution_count": 24,
   "metadata": {},
   "outputs": [
    {
     "data": {
      "image/png": "[encoded data removed]",
      "text/plain": [
       "<Figure size 432x288 with 1 Axes>"
      ]
     },
     "metadata": {
      "needs_background": "light"
     },
     "output_type": "display_data"
    }
   ],
   "source": [
    "plt.plot(history1.history['auc'], label=\"Training AUC\")\n",
    "plt.plot(history1.history['val_auc'], label=\"Validation AUC\")\n",
    "plt.title(\"AUC of Model\")\n",
    "plt.ylabel(\"AUC\")\n",
    "plt.xlabel(\"Epoch\")\n",
    "plt.legend()\n",
    "plt.show()"
   ]
  },
  {
   "cell_type": "markdown",
   "metadata": {},
   "source": [
    "# Final Testing of Unseen Dataset"
   ]
  },
  {
   "cell_type": "code",
   "execution_count": 25,
   "metadata": {
    "colab": {
     "base_uri": "https://localhost:8080/"
    },
    "executionInfo": {
     "elapsed": 1341,
     "status": "ok",
     "timestamp": 1655437395887,
     "user": {
      "displayName": "Liang Wei Ch'ng",
      "userId": "07458779485642893402"
     },
     "user_tz": -480
    },
    "id": "eynV-_7XiSL0",
    "outputId": "04786707-34be-455a-8086-99571ae4abd9"
   },
   "outputs": [
    {
     "name": "stdout",
     "output_type": "stream",
     "text": [
      "9/9 [==============================] - 1s 54ms/step - loss: 0.0377 - accuracy: 0.9958 - auc: 0.9973\n"
     ]
    },
    {
     "data": {
      "text/plain": [
       "[0.037736088037490845, 0.9957683682441711, 0.9972518086433411]"
      ]
     },
     "execution_count": 25,
     "metadata": {},
     "output_type": "execute_result"
    }
   ],
   "source": [
    "### 99.6% Accuracy on unseen data\n",
    "model1.evaluate(test_data)"
   ]
  },
  {
   "cell_type": "markdown",
   "metadata": {},
   "source": [
    "### Saving Model"
   ]
  },
  {
   "cell_type": "code",
   "execution_count": 26,
   "metadata": {},
   "outputs": [
    {
     "name": "stdout",
     "output_type": "stream",
     "text": [
      "INFO:tensorflow:Assets written to: encoder_model\\assets\n"
     ]
    },
    {
     "name": "stderr",
     "output_type": "stream",
     "text": [
      "INFO:tensorflow:Assets written to: encoder_model\\assets\n"
     ]
    }
   ],
   "source": [
    "model1.save('encoder_model')"
   ]
  },
  {
   "cell_type": "markdown",
   "metadata": {},
   "source": [
    "### Loading Model"
   ]
  },
  {
   "cell_type": "code",
   "execution_count": 27,
   "metadata": {},
   "outputs": [],
   "source": [
    "model_load = tf.keras.models.load_model('encoder_model')"
   ]
  },
  {
   "cell_type": "markdown",
   "metadata": {},
   "source": [
    "### Test Loaded Model"
   ]
  },
  {
   "cell_type": "markdown",
   "metadata": {},
   "source": [
    "## Prediction Time (Article from Reuters, 2022 June 16)\n",
    "###  U.S. Senate panel advances public defender vets up for judgeships\n",
    "\n",
    "https://www.reuters.com/legal/government/us-senate-panel-advances-public-defender-vets-up-judgeships-2022-06-16/\n"
   ]
  },
  {
   "cell_type": "code",
   "execution_count": 29,
   "metadata": {},
   "outputs": [],
   "source": [
    "string = \"(Reuters) - A US Senate panel on Thursday advanced President Joe Biden's nomination of two women with experience working as public defenders representing indigent defendants to serve as federal appellate judgesThe US Senate Judiciary Committee in separate 12-10 votes cleared the way for the full Senate to consider confirming Lara Montecalvo to serve on the Boston-based 1st US Circuit Court of Appeals and US District Judge Sarah Merriam to join the New York-based 2nd US Circuit Court of AppealsThe panel also advanced two district court picks Tiffany Cartwright a civil rights litigator at MacDonald Hoague & Bayless nominated to the Western District of Washington and Colorado nominee US Magistrate Judge Nina Nin-Yuen WangMontecalvo Merriam and Cartwright each garnered only a single Republican vote in their favor from Senator Lindsey Graham of South Carolina who has often bucked his party to vote for Biden's nomineesMontecalvo and Merriam are among the 26 current or former public defenders whom Biden has nominated to the federal bench according to the progressive group Alliance for Justice Progressive advocates argue that bench has been overly dominated by former prosecutors and former partners at corporate law firmsBiden nominated Merriam last year to her current position as a district court judge in Connecticut and the Senate confirmed her on a 54-46 vote Before becoming a judge she served as a federal public defender in Connecticut from 2007 to 2015She is a judge's judge and she will be an extraordinary addition to the 2nd Circuit said Democratic Senator Richard Blumenthal of Connecticut who recommended herMontecalvo leads the Rhode Island Public Defender's Office which she joined in 2004 Her nomination garnered the support of a broad array of her state's legal and law enforcement establishment including the entire Rhode Island Supreme CourtDuring a May 25 hearing Senator Chuck Grassley of Iowa the panel's ranking Republican questioned Montecalvo about her role in advocating early in the COVID-19 pandemic for the release of inmates to alleviate health risks in the state's prisonsHe asked her about her reasoning for asking the Rhode Island Supreme Court to ease bail requirements for defendants awaiting trial a position the state's court rejected in December 2020 as unnecessaryMontecalvo cited an anticipated winter surge of COVID-19 within the state's prisons as the reason She said she was proud of working with prosecutors earlier in the pandemic to secure the release of 52 people whose sentences were near their end\""
   ]
  },
  {
   "cell_type": "code",
   "execution_count": 30,
   "metadata": {},
   "outputs": [
    {
     "name": "stdout",
     "output_type": "stream",
     "text": [
      "1/1 [==============================] - 0s 149ms/step\n"
     ]
    },
    {
     "data": {
      "text/plain": [
       "array([[0.9993911]], dtype=float32)"
      ]
     },
     "execution_count": 30,
     "metadata": {},
     "output_type": "execute_result"
    }
   ],
   "source": [
    "### Not bad at detection\n",
    "model_load.predict(np.array([string]))"
   ]
  },
  {
   "cell_type": "code",
   "execution_count": null,
   "metadata": {},
   "outputs": [],
   "source": []
  }
 ],
 "metadata": {
  "colab": {
   "authorship_tag": "ABX9TyMABmeW1JAZobMqRNvm+aUm",
   "collapsed_sections": [],
   "name": "fake news detection.ipynb",
   "provenance": [
    {
     "file_id": "1Xggn4WLI77WUNcLXIfG0y3be_4YdFfWq",
     "timestamp": 1655433135014
    },
    {
     "file_id": "1bSNF9Sb1kqqzNAvIp_NHB7FHle6Hx3Bg",
     "timestamp": 1655368800409
    }
   ]
  },
  "kernelspec": {
   "display_name": "Python 3 (ipykernel)",
   "language": "python",
   "name": "python3"
  },
  "language_info": {
   "codemirror_mode": {
    "name": "ipython",
    "version": 3
   },
   "file_extension": ".py",
   "mimetype": "text/x-python",
   "name": "python",
   "nbconvert_exporter": "python",
   "pygments_lexer": "ipython3",
   "version": "3.9.12"
  }
 },
 "nbformat": 4,
 "nbformat_minor": 1
}
