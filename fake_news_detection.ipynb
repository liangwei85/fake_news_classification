{
 "cells": [
  {
   "cell_type": "code",
   "execution_count": 45,
   "metadata": {
    "id": "2ngNpdEIc5JR"
   },
   "outputs": [],
   "source": [
    "import numpy as np\n",
    "import pandas as pd\n",
    "import matplotlib.pyplot as plt\n",
    "\n",
    "import tensorflow as tf\n",
    "import tensorflow_hub as hub"
   ]
  },
  {
   "cell_type": "code",
   "execution_count": 2,
   "metadata": {
    "id": "jr6CCvaUZMnv"
   },
   "outputs": [],
   "source": [
    "df_true  = pd.read_csv('True.csv')\n",
    "df_fake  = pd.read_csv('Fake.csv')"
   ]
  },
  {
   "cell_type": "code",
   "execution_count": 46,
   "metadata": {
    "id": "aTMu4muYjAns"
   },
   "outputs": [],
   "source": [
    "df_true['label'] = 1\n",
    "df_fake['label'] = 0"
   ]
  },
  {
   "cell_type": "code",
   "execution_count": 47,
   "metadata": {
    "id": "PNBoDSAujw9k"
   },
   "outputs": [],
   "source": [
    "df = pd.concat([df_true,df_fake],ignore_index=True)"
   ]
  },
  {
   "cell_type": "code",
   "execution_count": 48,
   "metadata": {
    "colab": {
     "base_uri": "https://localhost:8080/",
     "height": 206
    },
    "id": "Vv1826U7miFu",
    "outputId": "50b89b37-2fd2-4883-e216-6b2e9bbdcd5a"
   },
   "outputs": [
    {
     "data": {
      "text/html": [
       "\n",
       "  <div id=\"df-f41ca024-23a5-4be7-89f3-5fc08199e9af\">\n",
       "    <div class=\"colab-df-container\">\n",
       "      <div>\n",
       "<style scoped>\n",
       "    .dataframe tbody tr th:only-of-type {\n",
       "        vertical-align: middle;\n",
       "    }\n",
       "\n",
       "    .dataframe tbody tr th {\n",
       "        vertical-align: top;\n",
       "    }\n",
       "\n",
       "    .dataframe thead th {\n",
       "        text-align: right;\n",
       "    }\n",
       "</style>\n",
       "<table border=\"1\" class=\"dataframe\">\n",
       "  <thead>\n",
       "    <tr style=\"text-align: right;\">\n",
       "      <th></th>\n",
       "      <th>title</th>\n",
       "      <th>text</th>\n",
       "      <th>subject</th>\n",
       "      <th>date</th>\n",
       "      <th>label</th>\n",
       "    </tr>\n",
       "  </thead>\n",
       "  <tbody>\n",
       "    <tr>\n",
       "      <th>0</th>\n",
       "      <td>As U.S. budget fight looms, Republicans flip t...</td>\n",
       "      <td>WASHINGTON (Reuters) - The head of a conservat...</td>\n",
       "      <td>politicsNews</td>\n",
       "      <td>December 31, 2017</td>\n",
       "      <td>1</td>\n",
       "    </tr>\n",
       "    <tr>\n",
       "      <th>1</th>\n",
       "      <td>U.S. military to accept transgender recruits o...</td>\n",
       "      <td>WASHINGTON (Reuters) - Transgender people will...</td>\n",
       "      <td>politicsNews</td>\n",
       "      <td>December 29, 2017</td>\n",
       "      <td>1</td>\n",
       "    </tr>\n",
       "    <tr>\n",
       "      <th>2</th>\n",
       "      <td>Senior U.S. Republican senator: 'Let Mr. Muell...</td>\n",
       "      <td>WASHINGTON (Reuters) - The special counsel inv...</td>\n",
       "      <td>politicsNews</td>\n",
       "      <td>December 31, 2017</td>\n",
       "      <td>1</td>\n",
       "    </tr>\n",
       "    <tr>\n",
       "      <th>3</th>\n",
       "      <td>FBI Russia probe helped by Australian diplomat...</td>\n",
       "      <td>WASHINGTON (Reuters) - Trump campaign adviser ...</td>\n",
       "      <td>politicsNews</td>\n",
       "      <td>December 30, 2017</td>\n",
       "      <td>1</td>\n",
       "    </tr>\n",
       "    <tr>\n",
       "      <th>4</th>\n",
       "      <td>Trump wants Postal Service to charge 'much mor...</td>\n",
       "      <td>SEATTLE/WASHINGTON (Reuters) - President Donal...</td>\n",
       "      <td>politicsNews</td>\n",
       "      <td>December 29, 2017</td>\n",
       "      <td>1</td>\n",
       "    </tr>\n",
       "  </tbody>\n",
       "</table>\n",
       "</div>\n",
       "      <button class=\"colab-df-convert\" onclick=\"convertToInteractive('df-f41ca024-23a5-4be7-89f3-5fc08199e9af')\"\n",
       "              title=\"Convert this dataframe to an interactive table.\"\n",
       "              style=\"display:none;\">\n",
       "        \n",
       "  <svg xmlns=\"http://www.w3.org/2000/svg\" height=\"24px\"viewBox=\"0 0 24 24\"\n",
       "       width=\"24px\">\n",
       "    <path d=\"M0 0h24v24H0V0z\" fill=\"none\"/>\n",
       "    <path d=\"M18.56 5.44l.94 2.06.94-2.06 2.06-.94-2.06-.94-.94-2.06-.94 2.06-2.06.94zm-11 1L8.5 8.5l.94-2.06 2.06-.94-2.06-.94L8.5 2.5l-.94 2.06-2.06.94zm10 10l.94 2.06.94-2.06 2.06-.94-2.06-.94-.94-2.06-.94 2.06-2.06.94z\"/><path d=\"M17.41 7.96l-1.37-1.37c-.4-.4-.92-.59-1.43-.59-.52 0-1.04.2-1.43.59L10.3 9.45l-7.72 7.72c-.78.78-.78 2.05 0 2.83L4 21.41c.39.39.9.59 1.41.59.51 0 1.02-.2 1.41-.59l7.78-7.78 2.81-2.81c.8-.78.8-2.07 0-2.86zM5.41 20L4 18.59l7.72-7.72 1.47 1.35L5.41 20z\"/>\n",
       "  </svg>\n",
       "      </button>\n",
       "      \n",
       "  <style>\n",
       "    .colab-df-container {\n",
       "      display:flex;\n",
       "      flex-wrap:wrap;\n",
       "      gap: 12px;\n",
       "    }\n",
       "\n",
       "    .colab-df-convert {\n",
       "      background-color: #E8F0FE;\n",
       "      border: none;\n",
       "      border-radius: 50%;\n",
       "      cursor: pointer;\n",
       "      display: none;\n",
       "      fill: #1967D2;\n",
       "      height: 32px;\n",
       "      padding: 0 0 0 0;\n",
       "      width: 32px;\n",
       "    }\n",
       "\n",
       "    .colab-df-convert:hover {\n",
       "      background-color: #E2EBFA;\n",
       "      box-shadow: 0px 1px 2px rgba(60, 64, 67, 0.3), 0px 1px 3px 1px rgba(60, 64, 67, 0.15);\n",
       "      fill: #174EA6;\n",
       "    }\n",
       "\n",
       "    [theme=dark] .colab-df-convert {\n",
       "      background-color: #3B4455;\n",
       "      fill: #D2E3FC;\n",
       "    }\n",
       "\n",
       "    [theme=dark] .colab-df-convert:hover {\n",
       "      background-color: #434B5C;\n",
       "      box-shadow: 0px 1px 3px 1px rgba(0, 0, 0, 0.15);\n",
       "      filter: drop-shadow(0px 1px 2px rgba(0, 0, 0, 0.3));\n",
       "      fill: #FFFFFF;\n",
       "    }\n",
       "  </style>\n",
       "\n",
       "      <script>\n",
       "        const buttonEl =\n",
       "          document.querySelector('#df-f41ca024-23a5-4be7-89f3-5fc08199e9af button.colab-df-convert');\n",
       "        buttonEl.style.display =\n",
       "          google.colab.kernel.accessAllowed ? 'block' : 'none';\n",
       "\n",
       "        async function convertToInteractive(key) {\n",
       "          const element = document.querySelector('#df-f41ca024-23a5-4be7-89f3-5fc08199e9af');\n",
       "          const dataTable =\n",
       "            await google.colab.kernel.invokeFunction('convertToInteractive',\n",
       "                                                     [key], {});\n",
       "          if (!dataTable) return;\n",
       "\n",
       "          const docLinkHtml = 'Like what you see? Visit the ' +\n",
       "            '<a target=\"_blank\" href=https://colab.research.google.com/notebooks/data_table.ipynb>data table notebook</a>'\n",
       "            + ' to learn more about interactive tables.';\n",
       "          element.innerHTML = '';\n",
       "          dataTable['output_type'] = 'display_data';\n",
       "          await google.colab.output.renderOutput(dataTable, element);\n",
       "          const docLink = document.createElement('div');\n",
       "          docLink.innerHTML = docLinkHtml;\n",
       "          element.appendChild(docLink);\n",
       "        }\n",
       "      </script>\n",
       "    </div>\n",
       "  </div>\n",
       "  "
      ],
      "text/plain": [
       "                                               title  \\\n",
       "0  As U.S. budget fight looms, Republicans flip t...   \n",
       "1  U.S. military to accept transgender recruits o...   \n",
       "2  Senior U.S. Republican senator: 'Let Mr. Muell...   \n",
       "3  FBI Russia probe helped by Australian diplomat...   \n",
       "4  Trump wants Postal Service to charge 'much mor...   \n",
       "\n",
       "                                                text       subject  \\\n",
       "0  WASHINGTON (Reuters) - The head of a conservat...  politicsNews   \n",
       "1  WASHINGTON (Reuters) - Transgender people will...  politicsNews   \n",
       "2  WASHINGTON (Reuters) - The special counsel inv...  politicsNews   \n",
       "3  WASHINGTON (Reuters) - Trump campaign adviser ...  politicsNews   \n",
       "4  SEATTLE/WASHINGTON (Reuters) - President Donal...  politicsNews   \n",
       "\n",
       "                 date  label  \n",
       "0  December 31, 2017       1  \n",
       "1  December 29, 2017       1  \n",
       "2  December 31, 2017       1  \n",
       "3  December 30, 2017       1  \n",
       "4  December 29, 2017       1  "
      ]
     },
     "execution_count": 48,
     "metadata": {},
     "output_type": "execute_result"
    }
   ],
   "source": [
    "df.head()"
   ]
  },
  {
   "cell_type": "code",
   "execution_count": 49,
   "metadata": {
    "colab": {
     "base_uri": "https://localhost:8080/"
    },
    "id": "kWGV42ppqXf9",
    "outputId": "2464f6ca-2d54-4d90-c7c8-b46faa1981ad"
   },
   "outputs": [
    {
     "data": {
      "text/plain": [
       "title      object\n",
       "text       object\n",
       "subject    object\n",
       "date       object\n",
       "label       int64\n",
       "dtype: object"
      ]
     },
     "execution_count": 49,
     "metadata": {},
     "output_type": "execute_result"
    }
   ],
   "source": [
    "df.dtypes"
   ]
  },
  {
   "cell_type": "code",
   "execution_count": 52,
   "metadata": {
    "id": "9jpouM-Dqy-6"
   },
   "outputs": [],
   "source": [
    "df['label'] = df['label'].astype(int)"
   ]
  },
  {
   "cell_type": "code",
   "execution_count": 33,
   "metadata": {
    "id": "-xG41HIgpmfN"
   },
   "outputs": [],
   "source": [
    "df.dropna(inplace=True)"
   ]
  },
  {
   "cell_type": "code",
   "execution_count": 34,
   "metadata": {
    "id": "5Es4FFf3jJeq"
   },
   "outputs": [],
   "source": [
    "df.drop(['title','subject','date'] ,axis=1, inplace=True)"
   ]
  },
  {
   "cell_type": "code",
   "execution_count": 35,
   "metadata": {
    "colab": {
     "base_uri": "https://localhost:8080/",
     "height": 206
    },
    "id": "Kg7konWvd0B_",
    "outputId": "e1f3cbce-ce42-4854-bc73-eea49962c586"
   },
   "outputs": [
    {
     "data": {
      "text/html": [
       "\n",
       "  <div id=\"df-761a985d-23b6-4874-abaa-fba6a1fa0db1\">\n",
       "    <div class=\"colab-df-container\">\n",
       "      <div>\n",
       "<style scoped>\n",
       "    .dataframe tbody tr th:only-of-type {\n",
       "        vertical-align: middle;\n",
       "    }\n",
       "\n",
       "    .dataframe tbody tr th {\n",
       "        vertical-align: top;\n",
       "    }\n",
       "\n",
       "    .dataframe thead th {\n",
       "        text-align: right;\n",
       "    }\n",
       "</style>\n",
       "<table border=\"1\" class=\"dataframe\">\n",
       "  <thead>\n",
       "    <tr style=\"text-align: right;\">\n",
       "      <th></th>\n",
       "      <th>text</th>\n",
       "      <th>label</th>\n",
       "    </tr>\n",
       "  </thead>\n",
       "  <tbody>\n",
       "    <tr>\n",
       "      <th>0</th>\n",
       "      <td>WASHINGTON (Reuters) - The head of a conservat...</td>\n",
       "      <td>1</td>\n",
       "    </tr>\n",
       "    <tr>\n",
       "      <th>1</th>\n",
       "      <td>WASHINGTON (Reuters) - Transgender people will...</td>\n",
       "      <td>1</td>\n",
       "    </tr>\n",
       "    <tr>\n",
       "      <th>2</th>\n",
       "      <td>WASHINGTON (Reuters) - The special counsel inv...</td>\n",
       "      <td>1</td>\n",
       "    </tr>\n",
       "    <tr>\n",
       "      <th>3</th>\n",
       "      <td>WASHINGTON (Reuters) - Trump campaign adviser ...</td>\n",
       "      <td>1</td>\n",
       "    </tr>\n",
       "    <tr>\n",
       "      <th>4</th>\n",
       "      <td>SEATTLE/WASHINGTON (Reuters) - President Donal...</td>\n",
       "      <td>1</td>\n",
       "    </tr>\n",
       "  </tbody>\n",
       "</table>\n",
       "</div>\n",
       "      <button class=\"colab-df-convert\" onclick=\"convertToInteractive('df-761a985d-23b6-4874-abaa-fba6a1fa0db1')\"\n",
       "              title=\"Convert this dataframe to an interactive table.\"\n",
       "              style=\"display:none;\">\n",
       "        \n",
       "  <svg xmlns=\"http://www.w3.org/2000/svg\" height=\"24px\"viewBox=\"0 0 24 24\"\n",
       "       width=\"24px\">\n",
       "    <path d=\"M0 0h24v24H0V0z\" fill=\"none\"/>\n",
       "    <path d=\"M18.56 5.44l.94 2.06.94-2.06 2.06-.94-2.06-.94-.94-2.06-.94 2.06-2.06.94zm-11 1L8.5 8.5l.94-2.06 2.06-.94-2.06-.94L8.5 2.5l-.94 2.06-2.06.94zm10 10l.94 2.06.94-2.06 2.06-.94-2.06-.94-.94-2.06-.94 2.06-2.06.94z\"/><path d=\"M17.41 7.96l-1.37-1.37c-.4-.4-.92-.59-1.43-.59-.52 0-1.04.2-1.43.59L10.3 9.45l-7.72 7.72c-.78.78-.78 2.05 0 2.83L4 21.41c.39.39.9.59 1.41.59.51 0 1.02-.2 1.41-.59l7.78-7.78 2.81-2.81c.8-.78.8-2.07 0-2.86zM5.41 20L4 18.59l7.72-7.72 1.47 1.35L5.41 20z\"/>\n",
       "  </svg>\n",
       "      </button>\n",
       "      \n",
       "  <style>\n",
       "    .colab-df-container {\n",
       "      display:flex;\n",
       "      flex-wrap:wrap;\n",
       "      gap: 12px;\n",
       "    }\n",
       "\n",
       "    .colab-df-convert {\n",
       "      background-color: #E8F0FE;\n",
       "      border: none;\n",
       "      border-radius: 50%;\n",
       "      cursor: pointer;\n",
       "      display: none;\n",
       "      fill: #1967D2;\n",
       "      height: 32px;\n",
       "      padding: 0 0 0 0;\n",
       "      width: 32px;\n",
       "    }\n",
       "\n",
       "    .colab-df-convert:hover {\n",
       "      background-color: #E2EBFA;\n",
       "      box-shadow: 0px 1px 2px rgba(60, 64, 67, 0.3), 0px 1px 3px 1px rgba(60, 64, 67, 0.15);\n",
       "      fill: #174EA6;\n",
       "    }\n",
       "\n",
       "    [theme=dark] .colab-df-convert {\n",
       "      background-color: #3B4455;\n",
       "      fill: #D2E3FC;\n",
       "    }\n",
       "\n",
       "    [theme=dark] .colab-df-convert:hover {\n",
       "      background-color: #434B5C;\n",
       "      box-shadow: 0px 1px 3px 1px rgba(0, 0, 0, 0.15);\n",
       "      filter: drop-shadow(0px 1px 2px rgba(0, 0, 0, 0.3));\n",
       "      fill: #FFFFFF;\n",
       "    }\n",
       "  </style>\n",
       "\n",
       "      <script>\n",
       "        const buttonEl =\n",
       "          document.querySelector('#df-761a985d-23b6-4874-abaa-fba6a1fa0db1 button.colab-df-convert');\n",
       "        buttonEl.style.display =\n",
       "          google.colab.kernel.accessAllowed ? 'block' : 'none';\n",
       "\n",
       "        async function convertToInteractive(key) {\n",
       "          const element = document.querySelector('#df-761a985d-23b6-4874-abaa-fba6a1fa0db1');\n",
       "          const dataTable =\n",
       "            await google.colab.kernel.invokeFunction('convertToInteractive',\n",
       "                                                     [key], {});\n",
       "          if (!dataTable) return;\n",
       "\n",
       "          const docLinkHtml = 'Like what you see? Visit the ' +\n",
       "            '<a target=\"_blank\" href=https://colab.research.google.com/notebooks/data_table.ipynb>data table notebook</a>'\n",
       "            + ' to learn more about interactive tables.';\n",
       "          element.innerHTML = '';\n",
       "          dataTable['output_type'] = 'display_data';\n",
       "          await google.colab.output.renderOutput(dataTable, element);\n",
       "          const docLink = document.createElement('div');\n",
       "          docLink.innerHTML = docLinkHtml;\n",
       "          element.appendChild(docLink);\n",
       "        }\n",
       "      </script>\n",
       "    </div>\n",
       "  </div>\n",
       "  "
      ],
      "text/plain": [
       "                                                text  label\n",
       "0  WASHINGTON (Reuters) - The head of a conservat...      1\n",
       "1  WASHINGTON (Reuters) - Transgender people will...      1\n",
       "2  WASHINGTON (Reuters) - The special counsel inv...      1\n",
       "3  WASHINGTON (Reuters) - Trump campaign adviser ...      1\n",
       "4  SEATTLE/WASHINGTON (Reuters) - President Donal...      1"
      ]
     },
     "execution_count": 35,
     "metadata": {},
     "output_type": "execute_result"
    }
   ],
   "source": [
    "df.head()"
   ]
  },
  {
   "cell_type": "code",
   "execution_count": 54,
   "metadata": {
    "id": "_1h17RKmd2AN"
   },
   "outputs": [],
   "source": [
    "train, val, test = np.split(df.sample(frac=1), [int(0.8*len(df)), int(0.9*len(df))])"
   ]
  },
  {
   "cell_type": "code",
   "execution_count": 55,
   "metadata": {
    "colab": {
     "base_uri": "https://localhost:8080/"
    },
    "id": "igVDHiRud2E2",
    "outputId": "de86d0b8-4dfa-4732-d919-6d4d7436483a"
   },
   "outputs": [
    {
     "data": {
      "text/plain": [
       "(35918, 4490, 4490)"
      ]
     },
     "execution_count": 55,
     "metadata": {},
     "output_type": "execute_result"
    }
   ],
   "source": [
    "len(train), len(val), len(test)"
   ]
  },
  {
   "cell_type": "code",
   "execution_count": 42,
   "metadata": {
    "id": "mxCE7fsdd2I-"
   },
   "outputs": [],
   "source": [
    "def df_to_dataset(dataframe, shuffle=True, batch_size=512):\n",
    "  df = dataframe.copy()\n",
    "  labels = df.pop('label')\n",
    "  df = df[\"text\"]\n",
    "  ds = tf.data.Dataset.from_tensor_slices((df, labels))\n",
    "  if shuffle:\n",
    "    ds = ds.shuffle(buffer_size=len(dataframe))\n",
    "  ds = ds.batch(batch_size)\n",
    "  ds = ds.prefetch(tf.data.AUTOTUNE)\n",
    "  return ds\n",
    "\n",
    "# def df_to_dataset(dataframe, shuffle=True, batch_size=32):\n",
    "#   df = dataframe.copy()\n",
    "#   labels = dataframe.pop('label')\n",
    "#   ds = tf.data.Dataset.from_tensor_slices((dict(dataframe), labels))\n",
    "#   if shuffle:\n",
    "#     ds = ds.shuffle(buffer_size=len(dataframe))\n",
    "#   ds = ds.batch(batch_size)\n",
    "#   return ds"
   ]
  },
  {
   "cell_type": "code",
   "execution_count": 56,
   "metadata": {
    "id": "jXcdF9JViQg2"
   },
   "outputs": [],
   "source": [
    "train_data = df_to_dataset(train)\n",
    "valid_data = df_to_dataset(val)\n",
    "test_data = df_to_dataset(test)"
   ]
  },
  {
   "cell_type": "code",
   "execution_count": 39,
   "metadata": {
    "colab": {
     "base_uri": "https://localhost:8080/"
    },
    "id": "VDxfOZBNiRcF",
    "outputId": "a6d3edf8-c814-4c63-ddd6-e209a262e8df"
   },
   "outputs": [
    {
     "data": {
      "text/plain": [
       "({'text': <tf.Tensor: shape=(32,), dtype=string, numpy=\n",
       "  array([b'WASHINGTON (Reuters) - Two leading House Democrats introduced legislation on Tuesday intended to curb corporate tax inversion deals by preventing companies from lowering the effective tax rates of U.S. business operations after moving their headquarters overseas. A bill, authored by the top Democrats on the House Ways and Means and Budget Committees, would limit the ability of newly inverted companies to engage in a tax strategy called \\xe2\\x80\\x9cearnings stripping,\\xe2\\x80\\x9d which the lawmakers said often follows an inversion deal.    Corporate inversions, an issue for anti-establishment voters in this year\\xe2\\x80\\x99s presidential and congressional election campaigns, typically occur when a U.S. company buys a foreign firm and then relocates its headquarters to the foreign company\\xe2\\x80\\x99s home country, if only on paper, in a bid to reduce overall taxes. The Obama administration has taken policy steps to discourage such deals. But only Congress can eliminate the option through tax reform, a prospect unlikely until after the Nov. 8 election. \\xe2\\x80\\x9cWe cannot continue to allow companies to shift their tax obligations onto American workers and families simply by changing their mailing address,\\xe2\\x80\\x9d said Representative Chris Van Hollen of Maryland, senior Democrat on the House Budget Committee. Van Hollen introduced the \\xe2\\x80\\x9cStop Corporate Earnings Stripping Act of 2016\\xe2\\x80\\x9d with Representative Sander Levin of Michigan, the senior Democrat on the House Ways and Means Committee. The lawmakers said newly inverted companies have stripped their U.S. operations of taxable earnings by loading them with debt that produces tax-deductible interest payments. The payments are made to the new foreign parent or another foreign affiliate as interest income that often pays a reduced or zero tax rate. The new legislation would reduce or eliminate financial thresholds that allow companies to pursue the earnings-stripping strategy after inversion. ',\n",
       "         b'SACRAMENTO, Calif. (Reuters) - A California neuroscientist vying to unseat Republican Congressman Dana Rohrabacher stepped up his criticism of the conservative on Tuesday, demanding he return a $1,000 contribution from indicted Trump adviser Paul Manafort. The Orange County seat held by Rohrabacher is key to Democrats\\xe2\\x80\\x99 hopes to increase their numbers in the U.S. House of Representatives in next year\\xe2\\x80\\x99s elections. Neuroscientist Hans Keirstead, a stem cell researcher and entrepreneur from Laguna Beach, is one of seven Democrats aiming to beat him, according to the Federal Election Commission. \\xe2\\x80\\x9cWe\\xe2\\x80\\x99ve got a Russian-tainted Congressman taking Russian-tainted money from Manafort,\\xe2\\x80\\x9d Keirstead said in a telephone interview on Tuesday. \\xe2\\x80\\x9cSomething has to be put straight here.\\xe2\\x80\\x9d Federal investigators probing Russian interference in the 2016 U.S. election on Monday charged Manafort, a lobbyist and former Trump campaign manager, with money laundering. Rohrabacher, a senior member of the House Committee on Foreign Affairs, has frequently praised Russian President Vladimir Putin and was considered for a role in U.S. President Donald Trump\\xe2\\x80\\x99s cabinet. His Southern California base in Orange County was for decades a Republican stronghold and a center of support for Ronald Reagan. Reliably conservative voters there have sent Rohrabacher to the House for nearly 30 years. But the 48th Congressional district has undergone profound demographic shifts in recent years, and it is now one of nine Republican districts in California that Democrats have targeted. Hillary Clinton beat Trump in the district in 2016, winning 152,000 votes compared to his 146,600. \\xe2\\x80\\x9cThese are people who care about the environment, care about social issues,\\xe2\\x80\\x9d said Drew Godinich, a spokesman for the Democratic Congressional Campaign Committee in California. \\xe2\\x80\\x9cDonald Trump and Donald Trump\\xe2\\x80\\x99s Republican Party are no longer a good match for them.\\xe2\\x80\\x9d Democrats\\xe2\\x80\\x99 success in the district, however, is far from assured. Despite a tilt toward Clinton for the presidency, voters there chose Rohrabacher over Democrat Suzanne Savary by more than six percentage points in 2016. Through a spokesman, Rohrabacher indicated that he was not at this time prepared to reject Manafort - or the $1,000 donation the political operative made to his 2014 campaign. \\xe2\\x80\\x9cThe Congressman advises his political opponents and the media to observe the presumption of innocence, still an American principle,\\xe2\\x80\\x9d spokesman Ken Grubbs said in an email. ',\n",
       "         b'The information is spilling out little by little but we now know that HILLARY CLINTON put America s National Security at risk when she peddled influence for money using our State Department. Is there any doubt that she s lived up to her name  Crooked Hillary ? What s even worse is that the FBI wanted to investigate The Clinton Foundation but Obama s DOJ blocked the investigation. This is exactly why an outsider like Donald Trump is what we need ASAP!The Trump campaign seized on reports Thursday that the Obama administration rejected requests from three FBI field offices that wanted to open public corruption cases involving the Clinton Foundation and Democratic presidential nominee Hillary Clinton. After banks alerted the field offices to suspicious activity involving the Clinton family charity, the FBI wanted to investigate conflicts of interest stemming from foreign donations during Mrs. Clinton s tenure as secretary of state, CNN reported.  Today s news that President Obama s Department of Justice overruled three separate DOJ field offices and the FBI in declining to open a public corruption charge against the Clinton Foundation shows a troubling pattern of Obama and Clinton politicizing any government institution for their own personal political interests,  Trump campaign spokesman Jason Miller said in a statement.   This latest refusal to allow even a cursory investigation into the Clinton Foundation s pay-for-play dealings smacks of political favoritism. This is exactly why the American public has lost trust in the U.S. government and is ready to elect an outsider like Donald Trump,  Mr. Miller said. Read more: WT',\n",
       "         b'WASHINGTON (Reuters) - U.S. Republican Senator Marco Rubio on Monday said he will vote to back President Donald Trump\\xe2\\x80\\x99s nominee for secretary of state, Rex Tillerson, despite the former Exxon Mobil Corp CEO\\xe2\\x80\\x99s \\xe2\\x80\\x9ctroubling\\xe2\\x80\\x9d responses before lawmakers regarding Russia. \\xe2\\x80\\x9cDespite my reservations, I will support Mr. Tillerson\\xe2\\x80\\x99s nomination in committee and in the full Senate,\\xe2\\x80\\x9d Rubio said in a statement posted on Facebook ahead of the Senate Foreign Relations Committee\\xe2\\x80\\x99s vote on Tillerson later on Monday. A vote in the Republican-controlled Senate is expected shortly afterward. ',\n",
       "         b'TOKYO (Reuters) - U.N. Secretary-General Antonio Guterres, warning against the danger of  sleepwalking  into war, said on Thursday that Security Council resolutions on North Korea s nuclear and missile programs must be fully implemented by Pyongyang and other countries. Guterres made the comments to reporters after meeting with Japanese Prime Minister Shinzo Abe in Tokyo just days after U.S. Secretary of State Rex Tillerson offered to begin direct talks with North Korea without pre-conditions. The White House said Wednesday that no negotiations could be held with North Korea until it improves its behavior. The White House has declined to say whether President Donald Trump, who has taken a tougher rhetorical line toward Pyongyang, gave approval to Tillerson s overture.  It is very clear that the Security Council resolutions must be fully implemented first of all by North Korea but by all other countries whose role is crucial to ... achieve the result we all aim at, which is the denuclearisation of the Korean Peninsula,  Guterres said. Guterres added that Security Council unity was also vital  to allow for the possibility of diplomatic engagement  that would allow denuclearisation to take place.  The worst possible thing that could happen is for us all to sleepwalk into a war that might have very dramatic circumstances,  he said. Japan says now is the time to keep up maximum pressure on Pyongyang, not start talks on the North s missile and nuclear programs. China and Russia, however, have welcomed Tillerson s overture.  Abe, who spoke to reporters with Guterres, reiterated that dialogue needed to be meaningful and aimed at denuclearisation.  We fully agreed that the denuclearisation of the Korean peninsula is indispensable for the peace and stability of the region,  Abe said. Tillerson s overture came nearly two weeks after North Korea said it had successfully tested a breakthrough intercontinental ballistic missile (ICBM) that put the entire United States mainland within range. In September, North Korea fired a ballistic missile over the northern Japanese island of Hokkaido,  the second to fly over Japan in less than a month. North Korea appears to have little interest in negotiations with the United States until it has developed the ability to hit the U.S. mainland with a nuclear-tipped missile, something most experts say it has still not proved. United Nations political affairs chief Jeffrey Feltman, who visited Pyongyang last week, said on Tuesday senior North Korean officials did not offer any type of commitment to talks, but he believes he left  the door ajar .  ',\n",
       "         b'BAGHDAD/KIRKUK (Reuters) - The Baghdad government recaptured territory from Kurds across the breadth of northern Iraq on Tuesday, making startlingly rapid gains in a sudden campaign that has shifted the balance of power in the country almost overnight. In the second day of a lightning government advance to take back towns and countryside from forces of the Kurdish autonomous region, Kurdish troops known as Peshmerga pulled out of the long disputed Khanaqin area near the Iranian border. Government troops took control of the last two oilfields in the vicinity of Kirkuk, an oil city of 1 million people which the Peshmerga abandoned the previous day in the face of the government forces  advance. A Yazidi group allied to Baghdad also took control of the town of Sinjar. Baghdad s military operation has redrawn the map of northern Iraq, rolling back gains by the Kurds who infuriated Baghdad last month by holding a referendum on independence. Iraqi Prime Minister Haider al-Abadi said on Tuesday the referendum  is finished and has become a thing of the past . Addressing a news conference in Baghdad, he called for a dialogue with Kurdish leaders  under the constitution . Kurdish Regional Government (KRG) President Masoud Barzani said the vote for independence  won t be in vain . He did not call for dialogue, but added,  Kurds have always been against waging wars and have worked in pursuit of peace.  The KRG governs three mountainous northern provinces making up the autonomous region. It has also held a wide crescent of additional territory in northern Iraq, much of which they seized after helping drive out Islamic State militants since 2014. Abadi ordered his troops on Monday to raise their flag over all Kurdish-held territory outside the autonomous region itself. They achieved a swift victory in Kirkuk, reaching the center of the city in less than a day. The fighting in one of Iraq s main oil-producing areas has helped return a risk premium to oil prices. After months of range-bound trading, benchmark Brent crude is now above $58 a barrel, up almost a third from its mid-year levels.  Oil officials in Baghdad said all the fields near Kirkuk were working normally on Tuesday after the last came under central government control. Kirkuk, situated just outside the KRG autonomous region, is the base of Iraq s Northern Oil Company, one of the two giant state energy firms that provide nearly all government revenue. Oil minister Jabar al-Luaibi said Baghdad would now try to nearly double the output of the Kirkuk oil fields to more than 1 million barrels per day. The Iraqi army advances create a dilemma for Washington, which has armed and trained both sides in its successful campaign to drive Islamic State insurgents out of Iraq.  We don t like the fact that they re clashing,  U.S. President Donald Trump told reporters at the White House on Monday.  We ve had for many years a very good relationship with the Kurds as you know, and we ve also been on the side of Iraq.  So far most of the advances appear to have come unopposed, with Kurds withdrawing before government forces move in. There have been reports of just one serious battle, in the early hours of Monday on the outskirts of Kirkuk. The U.S. military said on Tuesday it had received mixed accounts of the death toll in that clash, with between three and 11 combatants killed. The International Committee of the Red Cross said the transfer of control appeared to have taken place with a minimum of fighting, with the number of wounded no higher than in the dozens. ICRC regional deputy director Patrick Hamilton told Reuters that he was concerned roads were closed, especially access to Mosul, the former Islamic State urban battlefield where hundreds of thousands of people still depend on aid. In Kirkuk, one of Iraq s most diverse cities, members of the Turkmen ethnic group who opposed Kurdish rule celebrated on Monday, driving through the streets firing weapons in the air. By Tuesday, the once ubiquitous green, red and white Kurdish flag with a blazing yellow sun had vanished from the streets. U.S.-trained Iraqi special forces and local police patrolled to maintain order. Markets, shops and schools were open as normal. Some Kurdish families who had left the city on Monday were already returning home. They said thousands of Kurdish fighters in convoys formed a long queue in efforts to flee Kirkuk towards the Kurdish regional capital Erbil, clogging the road and making it difficult for civilians to leave. For the Kurds, the loss of territory, particularly Kirkuk, which Kurdish folklore views as the heart of their homeland, is a severe blow just three weeks after they voted to declare the independent state that had been their goal for decades.  Our leaders abandoned us in the middle of nowhere. Our future is dark,  said retired Kirkuk teacher Malla Bakhtiyar. He said he tried to escape on Monday but returned with his wife and sons after an Arab neighbor phoned, begging him not to leave and assuring him the city was safe. University lecturer Salar Othman Ameen blamed the Kurdish authorities for calling the independence referendum prematurely.  We feel broken now. The referendum was a catastrophic decision ... Our Kurdish leadership was supposed to think of the consequences before moving along with independence vote. Now we have lost what we have achieved over three decades.  The setbacks led to recriminations among the two main Kurdish political parties - the KDP and PUK, which each control separate units of Peshmerga. Barzani said political rivals had ordered the withdrawal of Kurdish forces from Kirkuk, and officials in his KDP accused the PUK of his long-time rival Jalal Talabani of  treason  for abandoning the city.  Talabani, who served as ceremonial Iraqi president in Baghdad from 2003 to 2014, died two weeks ago. His widow denied blame for the fall of Kirkuk and said her party had tried to avert the advance through contact with U.S. and Iraqi officials.   The advances were a second resounding triumph for Abadi, the soft-spoken Iraqi prime minister, months after his forces recaptured Mosul from Islamic State. Abadi had faced threats from Iran-backed Shi ite armed groups to take matters into their own hands if he did not act decisively to take on the Kurds.  If elections were held tomorrow, I would vote with 10 fingers for Abadi. He succeeded in keeping Iraq a single state,  said Adel Abdul Kareem, a Baghdad lawyer.  When Kurdish leaders were threatening Baghdad, Abadi was always smiling. We did not expect he was hiding a tornado behind this smile. He proved he was a smart leader, and with his wisdom he won against Masoud (Barzani) with a knockout in the second round.  For the Kurds, the loss of Kirkuk restores the status quo in place before they seized it in 2014, which saw their self-ruled region prosper under an Iraqi constitution that guaranteed them a fixed percentage of Iraq s total oil income. Control of Kirkuk and its oil had made it seem more plausible for them to break away; without it, independence is problematic, since they would be financially worse off than inside Iraq with a share of its overall oil income. ',\n",
       "         b'The Republican Party may have done more than shoot themselves in the foot by supporting Donald Trump as their nominee, and President Obama couldn t be happier about it.During an appearance with Jimmy Fallon that will air on Thursday night, the Tonight Show host asked Obama what his role will be during the 2016 race to succeed him in the White House. The role I m going to be playing in this process is to remind the American people this is a serious job,  Obama said.  This is not reality TV. Clearly, President Obama just took a shot at Trump with that statement. After all, Trump is the only candidate in the field who has been a reality TV star. Trump hosted The Apprentice for 14 seasons until his racist presidential campaign announcement caused NBC to cut ties with him. Do you think Republicans are happy with their choice?  Fallon asked President Obama.Using his great comedic timing, Obama responded,  Umm, we are,  and the audience broke out in laughter. That was too easy,  Obama continued.  The truth is that I m worried about the Republican Party. Here s the video via YouTube.Indeed, Donald Trump is the gift that keeps on giving for the Democrats as they have gladly sat back and watched the Republican nominee tear apart the GOP piece by piece. Republicans are split on their support for Trump, especially as he continues hurling racist attacks against the judge presiding over the Trump University lawsuit.That alone has caused many Republicans to withdraw their endorsements, while other Republicans like House Speaker Paul Ryan have condemned Trump s racism but still support the racist for the presidency, causing even extreme conservative publisher Erik Erickson to blast Republicans for betraying their principles by supporting Trump.This is not only a preview of what President Obama had to say on the Tonight Show, it s a preview of how we can expect President Obama to deal with Donald Trump when he finally hits the campaign trail. And it s pretty clear that President Obama thinks Trump is a joke.Featured image via screen capture',\n",
       "         b'LONDON (Reuters) - New York real estate developer Donald Trump says he has \\xe2\\x80\\x9cunlimited\\xe2\\x80\\x9d personal wealth to fund his White House run, but a Reuters review of his financial disclosures suggests he does not have enough cash to see his campaign through to Election Day. Trump this week dismissed concerns about his campaign finances after electoral filings showed he raised just $3 million in individual contributions in May and had a war chest of only $1 million at the end of the month. His Democratic rival, Hillary Clinton, raised $26 million and ended May with a war chest of $42 million.  Trump, the presumptive Republican nominee who says he is worth about $10 billion, said in a statement on Tuesday that \\xe2\\x80\\x9cif need be, there could be unlimited \\xe2\\x80\\x98cash on hand\\xe2\\x80\\x99 as I would put up my own money.\\xe2\\x80\\x9d  Trump had cash and other liquid investments - money in funds, equities and cash - worth $60 million to $180 million in May, according to his filings with the Office of Government Ethics. The form does not require candidates to give precise values for their assets, only ranges. If President Barack Obama\\xe2\\x80\\x99s spending in his successful re-election bid in 2012 election is any guide, then Trump is a few hundred million dollars short. Obama spent almost $600 million between June and November 2012, according to Federal Election Commission filings. Trump\\xe2\\x80\\x99s campaign declined to comment for this story but referred to his earlier statement, in which he said his White House bid costs less than a traditional one because it is \\xe2\\x80\\x9cleaner and more efficient.\\xe2\\x80\\x9d  If Trump did decide to self-finance his campaign, he could, in theory, tap the hundreds of millions dollars of revenue he says is generated annually by his businesses. But it\\xe2\\x80\\x99s not clear how much of this revenue he could use. Business owners can take money out of a business only after deducting operating costs and taxes. Even then, much of an entrepreneur\\xe2\\x80\\x99s corporate earnings are often used to invest in building their businesses and maintaining their property assets.  Trump\\xe2\\x80\\x99s liquid assets stood at $80 million to $230 million in July last year, according to an earlier electoral filing. Using the midpoint of the ranges, Trump\\xe2\\x80\\x99s liquid assets have fallen\\xc2\\xa0$35 million in the past year.  The drop shows his campaign spending so far has already been funded in part by dipping into savings, rather than solely from his income. \\xe2\\x80\\x9cThere is a real question about how much he has in terms of liquid assets,\\xe2\\x80\\x9d said Norman Ornstein, a political scholar and expert in political finance at the American Enterprise Institute, a conservative think tank in Washington, citing the regulatory filings, which do not give a precise picture of Trump\\xe2\\x80\\x99s wealth. \\xe2\\x80\\x9cIt\\xe2\\x80\\x99s quite possible that he doesn\\xe2\\x80\\x99t have anywhere near what he suggests he has and what he does have is tied up in real estate, and selling that is no easy task,\\xe2\\x80\\x9d he said.  As a result, a more likely scenario would be Trump trying to borrow the funds, which could be probably done more quickly than trying to sell one of his buildings, he added.  Jan Baran, a former general counsel with the Republican National Committee, said Trump may not need as much money as people think. \\xe2\\x80\\x9cHe\\xe2\\x80\\x99s breaking the mold on everything ... he has proven that spending large sums of money does not guarantee success,\\xe2\\x80\\x9d Baran said, referring to how Trump defeated well-funded Republican rivals such as former Florida Governor Jeb Bush in the early nominating contests, or primaries. If Trump does not use his own money, he can seek donations, the traditional fund-raising route. Individual donors can contribute $2,700 each to his general election campaign. Trump has also signed a joint fundraising agreement with the  Republican National Committee. The RNC currently has $20 million in cash, money that will be used to help elect Trump and Republican lawmakers across the country.  Trump could also benefit if external groups like Super PACs raise money to campaign on his behalf. However, Trump has not yet blessed a Super PAC. Trump has spent around $63 million so far in his presidential bid, including $46 million in loans he made to his campaign, FERC data shows.  Typically, television advertising and creating infrastructure at a state and local level to mobilize voters are the most expensive aspects of a U.S. presidential campaign. TV networks charge high fees for prime time slots and many ground troops needed to bring out the voters must be paid.  So far Trump has not needed to spend much on television advertising - his fiery rhetoric on illegal immigrants and what he says are the security risks posed by refugees from the Middle East have guaranteed him blanket media coverage.  Daniel Weiner, a campaign finance expert at New York University\\xe2\\x80\\x99s Brennan Center for Justice said you can get only so far with free media in an election. \\xe2\\x80\\x9cTV advertising has been decreasing in importance for a long time, but the get-out-the vote stuff is crucial, particularly in an election that people perceive as being more about motivating their core voters, as opposed to winning over swing voters. And what we call \\xe2\\x80\\x98the ground game\\xe2\\x80\\x99 is quite expensive,\\xe2\\x80\\x9d he said. Trump has said he plans to outsource some of that ground game to the RNC, for example relying on their field staff in battleground states to help get out the vote. Trump has significant real estate holdings, which he says have low debt on them. With Election Day on Nov. 8 now just four months away, some real estate experts say selling them to generate cash would be a challenge. But several bankers say Trump could conceivably borrow hundreds of millions against them, despite his history of business bankruptcies and litigation with lenders. Exactly how much he could borrow, how easily and at what interest rates depends on how much Trump owns of the buildings that he cites as his own and how much debt he has. \\xe2\\x80\\x9cYou have years of prosperity and you have all of these alternative lenders and you have banks that are hungry for loans,\\xe2\\x80\\x9d said one veteran banking executive, who was not permitted to speak on the record.\\xe2\\x80\\x9d If Trump needs to borrow tens of millions of dollars, he probably can, the executive said. \\xe2\\x80\\x9cIf it is hundreds of millions, that\\xe2\\x80\\x99s another matter.\\xe2\\x80\\x9d ',\n",
       "         b'WINSTON-SALEM, N.C. (Reuters) - Transgender people still face discrimination and threats to their safety in North Carolina despite lawmakers replacing a measure that restricted their access to many public bathrooms, advocacy groups said in a new federal court action on Friday. The law thrust the state into the center of a national debate over equality, privacy and religious freedom last year by requiring transgender people to use restrooms in state-run buildings that matched the sex on their birth certificate rather than their gender identity. A new measure, passed in March, helped bring back some business and sports events pulled from the state in protest in the year after it enacted the so-called bathroom bill. But the replacement law lacks clarity, with top state leaders in disagreement about what it means for transgender bathroom access, the American Civil Liberties Union and Lambda Legal argue in their amended lawsuit. That leaves transgender people uncertain - even fearful - about which restrooms they can safely use, they said. \\xe2\\x80\\x9cWhen legislation fails to protect us, when it leaves us in limbo, it sends a message that our lives are expendable,\\xe2\\x80\\x9d plaintiff Joaqu\\xc3\\xadn Carca\\xc3\\xb1o, a transgender man who works at the University of North Carolina at Chapel Hill, told reporters. The amended complaint expands the lawsuit filed last year to challenge HB 2, which the state\\xe2\\x80\\x99s Republican leaders said was needed for public safety. The new law, HB 142, rescinded HB 2 but left many of its harmful effects in place, opponents say. The current law bars state agencies, schools and local governments from regulating government-run restrooms, showers and changing facilities, leaving responsibility for those policies with state lawmakers. It also bans cities in the state from passing their own anti-discrimination protections for lesbian, gay, bisexual and transgender (LGBT) people until 2020. Governor Roy Cooper, a Democrat who signed the new law, is now named as a defendant in the lawsuit, replacing former Republican Governor Pat McCrory, whose defeat in the 2016 election is partly blamed on his support for the old law. Cooper has called the replacement law imperfect but necessary to help repair North Carolina\\xe2\\x80\\x99s damaged reputation.  \\xe2\\x80\\x9cThe governor\\xe2\\x80\\x99s ultimate goal is statewide LGBT protections, and he is going to continue working toward that,\\xe2\\x80\\x9d Cooper spokesman Ford Porter said in a statement on Friday. A battle over bathrooms also flared on Friday in Texas, where lawmakers heard impassioned public testimony about proposals to limit public restroom access to transgender people in that state. ',\n",
       "         b'BRUSSELS (Reuters) - NATO allies backed plans on Wednesday for two new military headquarters to help protect Europe in the event of a conflict with Russia, laying the ground for the U.S.-led alliance s biggest expansion in decades. Hoping to add to its deterrent factor against Russia, NATO defense ministers agreed to create an Atlantic command and a logistics command to help respond more quickly to threats in Europe, officials said.  This is vital for our transatlantic alliance,  NATO Secretary-General Jens Stoltenberg told a news conference.  It is about how to move forces across the Atlantic and how to move forces across Europe.  Costs will not be discussed until 2018 but the two new regional bases have broad support and show NATO s focus on its traditional task of defending its territory after out-of-area campaigns in the Balkans, Libya and Afghanistan in recent years. Germany is eager to host the logistics command, diplomats said, given its strategic location straddling central Europe, allowing for swift movement of equipment and personnel across borders in the event of a conflict.  Maritime nations such as Portugal, Spain, France and the United States could host the Atlantic command, diplomats said, stressing that no decision had yet been taken.  In a staggered response to Russia s 2014 annexation of Ukraine s Crimea peninsula, NATO has already put troops on rotation in the Baltic states and Poland, strengthened its presence in the Black Sea and sought to modernize its forces. The Kremlin, which denies harboring any aggressive intentions toward Europe, has condemned the moves as an attempt to encircle Russia. NATO says Russia s war games in September, which massed tens of thousands of troops on the alliance s eastern flank, are another reason for it to be better prepared to deter Moscow. Russia has increased its naval patrols in the Baltic Sea, the north Atlantic and the Arctic and deployed submarines, NATO officials say, although the size of its navy is smaller now than during the Cold War era.  We want to pull NATO back to Europe, and we want to focus more on NATO s maritime role,  Norway s Defence Minister Frank Bakke-Jensen said.  The new Atlantic Command would survey a vast area and have the task of making sea lanes safe for U.S. reinforcements to Europe, manned by experts in cyber warfare as well as conventional weapons. The maritime area between Greenland, Iceland and Britain is a clear vulnerability for NATO in a conflict and that needs better surveillance in peacetime, diplomats said. The decision is unlikely to revive a much larger Cold War-era Atlantic Command that was disbanded in 2002, but it would mean an expansion for NATO after years of cutbacks following the fall of the Soviet Union. At the height of the Cold War, the number of personnel manning NATO s then 33 commands reached 22,000. There are just seven such commands today, with fewer than 7,000 people. NATO countries also agreed on Wednesday to provide cyber weapons to top commanders for use in military operations and missions, officials said, potentially allowing the alliance to take on computer hackers for the first time. The step follows NATO s decision last year to make cyber a domain of warfare along with land, sea and air, although until now commanders were limited to defensive tasks. Under the agreement taken by NATO defense ministers, alliance commanders can now call on allies such as the United States and Britain to take down a hostile server or a website, although the details have yet to be formalized.  It may be a more proportionate response,  Stoltenberg said. ',\n",
       "         b'WASHINGTON (Reuters) - U.S. Secretary of State Rex Tillerson will meet Lebanese Prime Minister Saad al-Hariri in Paris on Friday, the State Department said in a statement on Thursday. The two will meet during a ministerial meeting of the International Lebanon Support Group, a body that includes the five permanent members of the U.N. Security Council   Britain, China, France, Russia and the United States. Hariri rescinded his resignation on Tuesday, drawing a line under a month-long crisis triggered when he announced from Riyadh that he was stepping down and remained outside Lebanon for weeks. His coalition government, which includes the Iran-backed Hezbollah group, reaffirmed a state policy of staying out of conflicts in Arab states. The State Department statement said Tillerson would encourage the Lebanese government and other nations to  move more aggressively  in limiting Hezbollah s  destabilizing activity in the region.  ',\n",
       "         b'To his credit, President Donald Trump almost immediately responded to the violence in Charlottesville, VA after a White Nationalists obtained a permit to march and were met with  violence by counter-protesters, many of whom were Antifa thugs who ve made a practice of using violence to shut down free speech in America and around the world.There was more hate in Charlottesville, VA today than America has seen in quite some time. Barack Obama created a racial divide like we haven t seen since the civil rights movement. We must pray that President Trump will have the ability to heal the wounds Barack Obama, Eric Holder, Al Sharpton and Loretta Lynch opened in an effort to divide America for votes. We must also pray that the American people will come together and stop listening to so-called leaders who would like to divide us.Charlottesville, VA   At least one person was killed and 19 others were injured Saturday when a car rammed into a group of counter-protesters during the  Unite the Right  rally in Charlottesville, Va.Charlottesville Mayor Mike Signer tweeted that he was  heartbroken that a life has been lost here  and urged  all people of good will [to] go home. The person driving the car has been arrested, but his identity has not yet been released. Via: Fox News',\n",
       "         b'The media continues to lie about jobs numbers but we know better than that. Here s a chart to share to anyone and everyone:In what was an  unambiguously  unpleasant April jobs payrolls report, with a March revision dragging that month s job gain to the lowest level since June of 2012, the fact that the number of Americans not in the labor force rose once again, this time to 93,194K from 93,175K, with the result being a participation rate of 69.45 or just above the lowest percentage since 1977, will merely catalyze even more upside to the so called  market  which continues to reflect nothing but central bank liquidity, and thus   the accelerating deterioration of the broader economy.READ MORE: ZERO HEDGE',\n",
       "         b'WASHINGTON (Reuters) - U.S. Representative Elijah Cummings and President Donald Trump will meet to discuss efforts to lower prescription drug prices on Wednesday, Cummings, the House of Representatives Committee on Oversight and Government Reform\\xe2\\x80\\x99s top Democrat, said in a statement on Tuesday. Trump earlier on Tuesday said he is developing a plan that will encourage competition in the drug industry and bring down prices for medicines. ',\n",
       "         b'CHICAGO (Reuters) - Michael Petyo is a carpenter, a U.S. Navy veteran, a grandfather and Russian Orthodox church cantor who likes to boast about his homemade nut rolls. He also happens to be a candidate for president of the United States. The 66-year-old Indiana man has no big financial backers, little political experience outside of two failed runs for Congress and his odds of winning are almost nil. But that has not stopped him from thinking he is the one to succeed President Barack Obama. Petyo is among a rising number of Americans who aspire to be president, due to what psychology experts describe as growing narcissism, distrust of leadership and the power of social media to reach the public.      Joining more than 1,500 others, according to the Federal Election Commission, Petyo admits he is a long shot, but figures he just needs some attention: \\xe2\\x80\\x9cHow do they know I\\xe2\\x80\\x99m not the next guy waiting in the wings?\\xe2\\x80\\x9d The number of candidates seeking the White House has more than tripled from 417 in 2012, though some entrants have penned in possibly fictitious names such as \\xe2\\x80\\x9cDisco Daddy\\xe2\\x80\\x9d and \\xe2\\x80\\x9cDarth Vader.\\xe2\\x80\\x9d  Their ranks include Susan Young, a California social studies teacher aiming to give her students a lesson in democracy, Terry Jones, the Florida pastor known for organizing Koran burnings, and anti-virus software pioneer John McAfee. Another candidate, Edie Bukewihge, included her grandma\\xe2\\x80\\x99s chili recipe on her web site: www.vote4edie.org, along with the promise that the last two years of her term could be boring because she will have repaired the country\\xe2\\x80\\x99s \\xe2\\x80\\x9cdamages.\\xe2\\x80\\x9d These hopefuls are not a factor in polls that show businessman Donald Trump and U.S. Senator Ted Cruz of Texas battling for the Republican nomination and U.S. Senator Bernie Sanders of Vermont and former Secretary of State Hillary Clinton leading the Democratic field ahead of next month\\xe2\\x80\\x99s Iowa caucuses and New Hampshire primary. But a lack of attention has not diminished Petyo\\xe2\\x80\\x99s enthusiasm. He frequently compares himself to the Bible\\xe2\\x80\\x99s David, the shepherd who God chose to be king. Like David, \\xe2\\x80\\x9cwords flow from my lips like honey from a hive,\\xe2\\x80\\x9d Petyo said. Petyo meets the Constitutional requirements for the job - he\\xe2\\x80\\x99s at least 35 and a natural born U.S. citizen. \\xe2\\x80\\x9cI don\\xe2\\x80\\x99t see how anybody can represent the people unless they\\xe2\\x80\\x99re one with the people,\\xe2\\x80\\x9d said Petyo, who owns a construction company and has been handing out business cards at political events around the Midwest. He posts policy positions at www.petyoforpresident.com In an interview, Petyo espoused conspiracy theories, claiming the Internal Revenue Service\\xe2\\x80\\x99s home is in Puerto Rico, al Qaeda members who carried out the Sept. 11, 2001 attacks had help from inside the U.S. government and the Federal Emergency Management Agency is setting up detainment camps around the country. For candidates like Petyo, the important thing is finding Americans who will listen to them, said Bart Rossi, a political psychologist. \\xe2\\x80\\x9cThey want to get their thoughts and ideas out there,\\xe2\\x80\\x9d said Rossi. \\xe2\\x80\\x9cThey want to be on the playing field even if they\\xe2\\x80\\x99re not going to win the game.\\xe2\\x80\\x9d Michael Maccoby, a psychoanalyst and leadership expert, said the world is going through deep changes, and more people distrust current leaders. \\xe2\\x80\\x9cIt\\xe2\\x80\\x99s understandable that you have a lot of people thinking they\\xe2\\x80\\x99ve got the answer,\\xe2\\x80\\x9d he said. Petyo is a Republican, but shuns party labels as he supports unions, a typical Democratic position, while espousing the belief that U.S. companies should pay little or no taxes. He should receive at least one vote. His long-time friend and supporter Jim Wright, a 65-year-old retired engineer who hands out flyers for the candidate, said he will vote for Petyo even though he doesn\\xe2\\x80\\x99t have a \\xe2\\x80\\x9csnowball\\xe2\\x80\\x99s chance in hell.\\xe2\\x80\\x9d ',\n",
       "         b'(Reuters) - The U.S. Supreme Court on Monday will hear arguments in a challenge by 26 states to President Barack Obama\\xe2\\x80\\x99s executive action to defer deportation of certain immigrant children and parents who are in the country illegally. Here is a chronology of the case, United States v. Texas: June 15, 2012 - The Obama administration, through the Department of Homeland Security, initiates the Deferred Action for Childhood Arrivals (DACA) program, which suspends deportation for two years for people who entered the country illegally at least five years earlier, before they were age 16, and who were under age 31 as of June 15, 2012. Nov. 20, 2014 - Obama, through unilateral executive action, initiates a new deferred-deportation and work-authorization policy for immigrants whose children are U.S. citizens or lawful permanent residents and who have been living illegally in the United States since Jan. 1, 2010. These people must pass certain background checks for possible past criminal convictions. The program is called Deferred Action for Parents of Americans and Lawful Permanent Residents (DAPA). The Obama administration also expands the earlier DACA program by eliminating the age-31 cap and increasing deferred deportation from two to three years. Dec. 3, 2014 - Texas and other Republican-governed states sue the Democratic Obama administration in U.S. district court in Texas. They assert that Obama\\xe2\\x80\\x99s Nov. 20 executive actions, which bypassed the Republican-led Congress, violated the Administrative Procedure Act (APA) notice-and-comment requirements for new federal agency rules and violated the U.S. Constitution\\xe2\\x80\\x99s dictate that a president \\xe2\\x80\\x9ctake care\\xe2\\x80\\x9d that laws are \\xe2\\x80\\x9cfaithfully executed.\\xe2\\x80\\x9d In all, 26 of the 50 U.S. states eventually sign on to the lawsuit: Alabama, Arizona, Arkansas, Florida, Georgia, Idaho, Indiana, Kansas, Louisiana, Maine, Michigan, Mississippi, Montana, Nebraska, Nevada, North Carolina, North Dakota, Ohio, Oklahoma, South Carolina, South Dakota, Tennessee, Texas, Utah, West Virginia and Wisconsin. Feb. 16, 2015 - U.S. District Court Judge Andrew Hanen in the border city of Brownsville, Texas issues an injunction blocking enforcement of the programs nationwide. The judge says the Obama administration had failed to offer notice and seek comments under the Administrative Procedure Act. Administration lawyers counter that the actions did not arise from official rule-making but rather from Homeland Security Department discretion on deportation priorities. May 26, 2015 - After the administration appeals the judge\\xe2\\x80\\x99s decision, the U.S. Court of Appeals for the 5th Circuit, based in New Orleans, upholds Hanen\\xe2\\x80\\x99s injunction, pending an appeal on the merits of the case. Nov. 9, 2015 - The U.S. Court of Appeals for the 5th Circuit rules for Texas and the other states, throwing out Obama\\xe2\\x80\\x99s DAPA and expanded DACA actions because, the court says, they were subject to notice-and-comment requirements under the Administrative Procedure Act. Jan. 19, 2016 - The Supreme Court agrees to hear the  administration\\xe2\\x80\\x99s appeal. The justices say they will review the Administrative Procedure Act issue as well as whether the program violates the \\xe2\\x80\\x9ctake care\\xe2\\x80\\x9d mandate. A key question before the justices is whether Texas and the other states even have legal standing to bring the case based on a claim that Obama\\xe2\\x80\\x99s action would cost the states financially in certain public services such as the cost of issuing driver\\xe2\\x80\\x99s licenses to illegal immigrants. Feb. 13, 2016 - Justice Antonin Scalia dies, leaving the Supreme Court with only eight members - four liberals and four conservatives - and the possibility of a 4-4 deadlock. Such a split ruling would be a defeat for Obama because it would leave in place the 5th Circuit decision disallowing his executive action. April 18, 2016 - Oral arguments scheduled in United States v. Texas. A ruling is expected by the end of June. ',\n",
       "         b'LONDON (Reuters) - Already facing the grim task of sifting through debris to find human remains at Grenfell Tower, the London social housing block where a fire killed about 80 people, police are now also having to investigate suspected thefts from survivors  apartments. Home to a poor, multi-ethnic community within one of London s richest boroughs, Grenfell Tower was gutted by the blaze which rapidly engulfed the whole building in the middle of the night on June 14. The tragedy has prompted a national debate about social inequalities, neglect of deprived communities and whether fire safety regulations were inadequate or were being ignored. Police are conducting a criminal investigation into the fire that could lead to manslaughter charges, although any prosecutions could be months away due to the scale and complexity of the probe, police chiefs said on Tuesday.  The scale of it is something that I personally have never encountered in policing,  said Commander Stuart Cundy, who has overall control of the Grenfell operations. Efforts to recover all human remains from the tower are still going on, with officers conducting fingertip searches in devastated apartments and sifting through tonnes of debris with sieves to find fragments of teeth, bones or tissue.  It is a really harrowing scene,  said Detective Superintendent Fiona McCormack, who is leading search and recovery operations. Sixty victims have been formally identified, and Cundy said the final death toll would likely be a little below 80. The building is unstable and each room has to be individually secured with steel bars to make it safe for investigators. As there are no functioning lifts, workers have to carry equipment and materials all the way up the tower. The disaster has prompted an outpouring of emotion, with donations of money and clothes pouring in from around Britain, but there have also been a small number of incidents of people trying to profit from the tragedy. McCormack said police were investigating one confirmed theft of  a considerable amount  of money from one of the less damaged apartments at the bottom of the tower, and three other suspected thefts of residents  possessions were also being probed. These came to light when former residents were let into their flats to pick up treasured items and to say goodbye to their homes. Stuart said officers had been shocked.  All of us here, working down on Grenfell Tower or working on it anywhere, are just so disappointed that something like that can happen on the back of such a huge tragedy,  he said. Extra alarms, cameras and lights have now been installed and procedures to access the site have been strengthened. Police are also investigating eight cases of suspected fraud by people who pretended to have been affected by the fire in various ways in order to claim money that the government made available for survivors and bereaved relatives. Two people have been charged with fraud, one is on police bail and five others are under investigation. The criminal probe into the fire itself involves hundreds of officers and is focusing on four strands: the construction of Grenfell Tower, its refurbishment, its management and the emergency response to the fire.  I will seek to identify and deal with whatever offences come to light during that investigation,  said Detective Chief Inspector Matt Bonner, who is in charge of the criminal investigation. He said offences that the police may uncover could include fraud, misconduct, breaches of health and safety or fire regulations, and manslaughter. Charges could be brought against individuals or organizations. However, Bonner said this should not be taken as an indication that police had already found evidence to support any such charges.  Grenfell Tower, which was completed in 1974, was owned by the borough of Kensington and Chelsea and managed by an organization that ran social housing on the borough s behalf. Bonner said police had so far identified 336 companies or organizations that were involved in the construction, refurbishment and management of the tower and officers had obtained 31 million documents from them. ',\n",
       "         b'Much to the dismay of so-called  pro-life  Republicans, the Supreme Court handed down an order allowing Louisiana Abortion clinics to reopen after a fringe right-wing appeals court forced them to close.The United States Court of Appeals for the Fifth Circuit issued what it called an  emergency decision  that permitted an anti-abortion law they knew was unconstitutional to go into effect in Louisiana. This law, like many others of its kind, did not serve any practical purpose other than to effectively ban all abortion within the state.This particular law required physicians that perform abortions to have admitting privileges at local hospitals. It s a completely unnecessary requirement since nearly all abortions do not require any form of admittance to a hospital and only serves to place undue burdens on vulnerable women and their physicians that are trying to help them.The Fifth Circuit Court has a history of allowing laws that it knows are going to be found unconstitutional to get implemented anyway. They got clear warnings from the Supreme Court that they should not allow these laws to proceed, due to the obvious unconstitutionality of them plus the precedent of the 5th circuits own decisions getting struck down in the past regarding them. However, they just keep upholding them, forcing a waste of taxpayer money and time by making them get elevated to the Supreme Court of the United States.Twice before, the Fifth Circuit has had decisions get struck down by SCOTUS from laws passed in Texas alone. One time they issued a partial stay, allowing some of Texas s abortion clinics to remain open. A second time SCOTUS handed down a more comprehensive stay of what is the Fifth Circuit s most draconian anti-abortion decision to date, in the case of Whole Woman s Health V. Cole. This is the exact same type of law that the Louisiana one was, in that it called for admitting privileges for doctors that provide abortions.In the Louisiana decision, only Clarence Thomas dissented from the opinion of the court which allowed the state s clinics to re-open   giving an indicator the right-wing s irrational obsession with women s bodies may have finally gone too far.Featured image via wikicommons',\n",
       "         b'BEIJING (Reuters) - U.S. President Donald Trump arrived in China on Wednesday seeking help to rein in North Korea, telling the reclusive state s leader he was putting his country in grave danger by developing nuclear weapons. Trump used some of his toughest language yet against North Korea in a wide-ranging address in Seoul that lodged specific accusations of chilling human rights abuses. He called on countries around the world to isolate Pyongyang by denying it  any form of support, supply or acceptance.   Do not underestimate us and do not try us,  Trump told North Korea as he wrapped up a visit to South Korea with a speech to the National Assembly before heading to Beijing, where he was making his first official visit. Trump painted a dystopian picture of the reclusive North, saying people were suffering in  gulags  and some bribed government officials to work as  slaves  overseas rather than live under the government at home. He offered no evidence to support those accusations. Trump s return to harsh, uncompromising language came a day after he appeared to dial back the bellicose rhetoric that had fueled fears across east Asia of the risk of military conflict. On Tuesday, Trump had even offered a diplomatic opening to Pyongyang to  make a deal.  He went mostly on the attack in Wednesday s speech but did promise a  path to a much better future  if North Korea stopped developing ballistic missiles and agreed to  complete, verifiable and total denuclearization    something Pyongyang has vowed never to do.  We will not allow American cities to be threatened with destruction. We will not be intimidated,  he told South Korean lawmakers.  And we will not let the worst atrocities in history be repeated here, on this ground we fought and died to secure.  The North defends its nuclear weapons and missile programs as a necessary defense against what it says are U.S. plans to invade. The United States, which has 28,500 troops in South Korea, a legacy of the 1950-53 Korean war, denies any such intention.      The world cannot tolerate the menace of a rogue regime that threatens it with nuclear devastation,  Trump said, speaking as three U.S. aircraft carrier groups sailed to the Western Pacific for exercises - a rare show of such U.S. naval force in the region.  STATE VISIT-PLUS  In Beijing, Trump and Chinese President Xi Jinping resumed their  bromance  struck in April at Trump s Mar-a-Lago resort in Florida, making small talk as they toured the Forbidden City - which was shut down to tourists - with their wives before taking in a Chinese opera performance. While the sprawling palace complex in the political and cultural heart of Beijing is a regular stop for visiting dignitaries, it is rare for a Chinese leader to act as a personal escort, confirmation of the  state visit-plus  treatment that China had promised for Trump.   Trump has threatened action over China s wide trade surplus with the United States and called on Beijing to do more to rein in ally and neighbor North Korea, but has expressed admiration for Xi and held off on imposing trade measures. During his two-day visit, Trump will ask China to abide by U.N. resolutions and cut financial links with North Korea, a senior White House official said on the plane from Seoul. He also plans to discuss with Xi the long-contentious trade imbalance, U.S. Commerce Secretary Wilbur Ross said at a ceremony with U.S. business leaders where $9 billion worth of deals were signed. The White House expects to announce deals in China this week worth more than $250 billion, Bloomberg reported, citing an administration official. Trump believes any talks with North Korea would require it to reduce threats, end provocations and move toward denuclearization, and that no deal can be achieved without denuclearization, the official added. Trump and Xi were scheduled to hold formal talks on Thursday. Before leaving for Beijing, Trump cited China as one of the countries that must fully enforce international sanctions against Pyongyang and downgrade diplomatic and commercial ties.  To those nations that choose to ignore this threat or, worse still, to enable it, the weight of this crisis is on your conscience,  he said. While Trump will try to convince Xi to squeeze North Korea further with steps such as limits on oil exports and financial transactions, it is not clear if Xi, who has just consolidated his power at a Communist Party congress, will agree to do more. China has repeatedly said its leverage over Pyongyang is exaggerated by the West and that it is already doing all it can to enforce sanctions. The Chinese Foreign Ministry said that China fully and strictly implements U.N. Security Council resolutions on North Korea, but will investigate if there have been any contraventions. During his speech in Seoul, Trump directed his words at North Korean leader Kim Jong Un.  The weapons that you are acquiring are not making you safer, they are putting your regime in grave danger,  he said.  Every step you take down this dark path increases the peril you face.  However Trump, whose strategy has stressed sanctions and military pressure instead of diplomacy, did not spell out any new approach. North Korea has made clear it has little interest in negotiations at least until it develops a nuclear-tipped missile capable of hitting the U.S. mainland, something U.S. intelligence officials say it may be just months away from achieving.  North Korea is a country ruled by a cult,  Trump said in a speech that was interrupted several times by applause and ended with a standing ovation.  He stopped short of repeating the derisive nickname  little Rocket Man  that he has used to describe the young North Korean leader. Kim, for his part, has called Trump  mentally deranged.  The speech came after Trump s attempt to make an unannounced visit to the heavily fortified border separating North and South Korea was aborted when dense fog prevented his helicopter from landing, officials said. A visit to the DMZ, despite his aides  earlier insistence he had no plans to go there, would have had the potential to further inflame tensions with North Korea. Arriving in Beijing on Wednesday, Trump and his wife Melania descended from a red-carpeted staircase rolled up to the main door of Air Force One. That was in contrast to a 2016 visit to China by his predecessor, Barack Obama, who was forced to exit his plane from a lower door in what was seen as a snub. And while in China, Trump will not be deterred from using Twitter, his favored form of communication, despite its being banned there, according to an administration official.  The president will tweet whatever he wants,  the official told reporters on Air Force One.  I m sure we ve got the gear aboard this airplane to make it happen.  ',\n",
       "         b'People like to pretend that Mike Pence is the grown-up in the room compared to Donald Trump s brash childishness from the White House. However, he proved that wrong on Sunday, when he left the Indiana Colts football game because a few of the players on the team opposing the Colts chose to take a knee during the national anthem to protest police brutality against black and brown Americans. Taking a leaf out of Trump s playbook, Pence tweeted:I left today\\'s Colts game because @POTUS and I will not dignify any event that disrespects our soldiers, our Flag, or our National Anthem.  Vice President Pence (@VP) October 8, 2017While everyone is entitled to their own opinions, I don\\'t think it\\'s too much to ask NFL players to respect the Flag and our National Anthem  Vice President Pence (@VP) October 8, 2017Just like Trump, Pence forgets the meaning of the First Amendment, and seems to think that his position gives him the right to try to bully owners, players, and ultimately the National Football League into following his orders. Further, it is worth noting that the Colts were playing the San Francisco 49ers, which is the former team of Colin Kaepernick, the man who started this protest before being blacklisted from the NFL for taking a stand against police brutality against people of color. Further, Pence and Trump admitted that they used the situation to divide the country and make some kind of point on the taxpayers  dime   because of course we paid for Pence to travel to that football game. For one thing, the press was kept in the van, in anticipation of Pence stirring the pot and then leaving:The media pool was kept in the vans ahead of the game instead of being led in with VPOTUS. https://t.co/NXIFZCp3fb  Vaughn Hillyard (@VaughnHillyard) October 8, 2017FLAG: Was Pence leaving Colts game a political stunt? Reporters were told to stay in van bc \"there may be an early departure from the game.\"  Peter Alexander (@PeterAlexander) October 8, 2017Then, Trump  admitted to ordering Pence to leave if the 49ers took a knee, which of course everyone knew they would:I asked @VP Pence to leave stadium if any players kneeled, disrespecting our country. I am proud of him and @SecondLady Karen.  Donald J. Trump (@realDonaldTrump) October 8, 2017So, in short, this was all premeditated racial pot stirring. Unsurprising from Trump, but somewhat surprising from Pence, who has been trying very hard to keep up the idea of how OMFG #notracist! he is. Well, that s out the window now.Another white supremacist takes his hood off in the Trump Administration.Featured image via Justin Sullivan/Getty Images',\n",
       "         b'WASHINGTON (Reuters) - U.S. Senators unveiled legislation on Wednesday providing federal aid to help states fix water infrastructure in the wake of Flint, Michigan\\xe2\\x80\\x99s crisis over lead-tainted drinking water.  Senators James Inhofe, an Oklahoma Republican, and Debbie Stabenow, a Michigan Democrat, and others introduced the measure providing $100 million to a revolving fund states can tap if they have drinking water problems. The funding in the agreement is paid for by cuts from the Advanced Technology Vehicles Manufacturing loans for auto companies, aimed to speed development of electric cars and other technologies. Inhofe called it a \\xe2\\x80\\x9cfailed program\\xe2\\x80\\x9d that hasn\\xe2\\x80\\x99t been used in more than a year and has only issued five loans since 2008. It was unclear whether the measure would be attached to a wide-ranging energy bill that failed to advance early this month or whether the senators would try to pass it as a separate bill.  Under the plan, states must first explain how the money would be spent, according to details of the agreement. If they do not use the aid in 18 months, it would return to the federal government.  \\xe2\\x80\\x9cThis is not a blank check,\\xe2\\x80\\x9d according to a document explaining the deal. Thousands of children in Flint, a predominantly African-American city of 100,000, are believed to have consumed dangerous amounts of lead in drinking water after a state-appointed emergency manager directed the city to switch from Detroit\\xe2\\x80\\x99s drinking water supply to the Flint River. Lead is a neurotoxin that can harm brain development in children.  Under the deal, Flint and the states would also have access to $70 million in a credit subsidy under a federal program called the Water Infrastructure Finance and Innovation Authority, or WIFIA. Congress conceived the WIFIA to help lower borrowing costs for municipal water projects. The federal program acts as a loan guarantee, rather than a grant, and is aimed at bringing borrowing costs in line with U.S. government bond rates. Some critics say local governments need direct federal aid, not borrowing support, to improve infrastructure. There would also be $50 million in aid available for national use for a childhood lead poisoning prevention program, a health registry and other items. Earlier this month, Michigan lawmakers had at first opposed getting funding from the advanced vehicles program, saying it would hurt auto workers. ',\n",
       "         b'LUXEMBOURG (Reuters) - Border controls inside what should normally be Europe s cherished zone of free travel are here to stay for now, EU ministers said on Friday, citing continued terrorist threats and the need to control migration. Germany, France, Austria, Sweden, Denmark and Norway told their Schengen zone peers they will extend until mid-May internal frontier checks first put in place in 2015 to counter unprecedented levels of migration and Islamist attacks. At a meeting of European Union interior ministers in Luxembourg, Germany s Thomas de Maiziere said Berlin was still committed to freedom of movement,  but at the moment we cannot do without checks.   The reason is the tense security situation in Europe with regards to international terrorism and the still inadequate protection of our external borders,  he said. France, which imposed emergency border controls after Islamist attackers killed 130 people in Paris in November, 2015, also wants to keep them in place.  The issues around terrorism are still extremely important for us,  French Interior Minister Gerard Colomb said.  France wants to extend border controls by six months.  The other four countries announced the same move, citing  serious threat to public policy or internal security  before the authorization to impose the border checks expires next month. Nearly all EU states consider the free-travel Schengen area as a major benefit of decades of European integration, and are keen to avoid disruptions to travel and trade.   But border checks have become the new reality over the last two years and the bloc is working on changing its laws to allow for the introduction of such measures more easily and for longer periods. ',\n",
       "         b'HARARE (Reuters) - Zimbabwe s ruling ZANU-PF party has given Robert Mugabe until noon (5.00 a.m. ET) on Monday to step down as President or face impeachment, cyber security minister Patrick Chinamasa said on Sunday. He was speaking at a televised news conference after a special party meeting at which Mugabe was sacked as ZANU-PF leader. ',\n",
       "         b'(Reuters) - Donald Trump was scheduled to hold additional meetings on Monday as he forms his administration before taking over from Democratic President Barack Obama on Jan. 20.  The Republican president-elect has held more than 90 meetings so far, according to his transition team. * Former Trump rival for the 2016 presidential nomination  * Former CEO of Hewlett-Packard Co * U.S. senator from West Virginia, a Democrat * Meeting originally scheduled for Dec. 9 * U.S. Representative from Idaho, a Republican * Serves on House Judiciary and Natural Resources committees * Was scheduled to meet with Trump on Dec. 8 * Former U.S. Senator from Pennsylvania, a Republican * Former Trump rival for the 2016 presidential nomination  In addition, several top executives from technology companies have been invited to a summit on Wednesday with the president-elect at Trump Tower in New York City, according to media reports * Those invited include representatives from Alphabet Inc (GOOGL.O), Apple Inc (AAPL.O), Facebook Inc (FB.O), Microsoft Corp (MSFT.O), Intel Corp (INTC.O), Oracle Corp (ORCL.N), the technology website Recode reported. * Amazon.com Inc (AMZN.O) CEO and founder Jeff Bezos was also invited and is likely to attend, Recode said, citing sources with knowledge of the situation. * Billionaire entrepreneur and Tesla Motors Inc (TSLA.O) CEO Elon Musk, the Wall Street Journal separately reported. ',\n",
       "         b'Hillary came out with a heavily edited TV ad yesterday,  calling Trump s ability to be a role model into question. Here is the video: Really Hillary? You re worried about Trump being a role model? Here are few of Hillary s greatest hits that have been revealed by those closest to her while either acting as our First Lady or in some capacity as a  public servant . ***STRONG LANGUAGE WARNING****1)  Where is the God damn flag? I want the God damn fucking flag up every morning at fucking sunrise . Hillary to staff at the Arkansas Governor s mansion on Labor Day 1991. From the book  Inside the White House  by Ronald Kessler, p. 244(2)  Fuck off! It s enough I have to see you shit-kickers every day! I m not going to talk to you, too! Just do your Goddamn job and keep your mouth shut.  Hillary to her State Trooper bodyguards after one of them greeted her with  Good Morning.  From the book  America Evita  by Christopher Anderson, p.90(3)  If you want to remain on this detail, get your fucking ass over here and grab those bags!  Hillary to a Secret Service Agent who was reluctant to carry her luggage because he wanted to keep his hands free in case of an incident. From the book  The First Partner  p. 25(4)  Stay the fuck back, stay the fuck back away from me! Don t come within ten yards of me, or else! Just fucking do as I say, Okay!!?  Hillary screaming at her Secret Service detail. From the book  Unlimited Access  by Clinton  s FBI Agent-in-Charge, Gary Aldridge, p.139(5)  Where s the miserable cock sucker?  (otherwise known as  Bill Clinton ) Hillary shouting at a Secret Service officer. From the book  The Truth about Hillary  by Edward Klein, p. 5(6)  You fucking idiot  Hillary to a State Trooper who was driving her to an event. From the book  Crossfire  ~pg. 84(7)  Put this on the ground! I left my sunglasses in the limo. I need those fucking sunglasses! We need to go back!  Hillary to Marine One helicopter pilot to turn back while in route to Air Force One. From the book   Dereliction of Duty  p. 71-72(8)  Come on Bill, put your dick up! You can t fuck her here!!  Hillary to Gov. Bill Clinton when she spots him talking with an attractive female. From the book  Inside the White House  by Ronald Kessler, p. 243Additionally, when she walked around the White House, NO ONE was permitted to look her in the eye, they all had to lower their heads with their eyes towards the ground whenever she walked by. Clearly she is a class act!This ill-tempered, violent, loud-mouth, hateful and abusive woman wants to be your next President, and have total control as Commander-in-Chief of our Military, the very Military for which she has shown incredible disdain throughout her public life .Now it will be clear why the crew of  Marine One  helicopter nick-named the craft,  Broomstick ONE   Via: TruthFeedAs an added BONUS we ve included a clip from an interview that was filmed in Africa.Hillary shows her true colors when a female student speaking broken English accidentally refers to Barack Obama as  Mr. Clinton . Her overreaction to this woman s innocent error shows what really happens when you unintentionally displease the Queen of the Democrat party Watch HERE',\n",
       "         b'As the RNC rears its ugly head, the Trump campaign has finally released the list of who will be speaking at this years gun-free gathering of racists, homophobes and fascists. And, as expected, those who will be speaking are a coveted group of losers within the dying party that is the GOP. Not only does this year s convention not feature any  winners  like Tom Brady or Ben Roethlisberger like Trump hoped it would, it does feature the likes of Jerry Falwell, Pam Bondi, Sheriff David Clarke, and the whole Trump family.More specifically, here is who will be included:Pastor Mark Burns Phil Ruffin Rep. Ryan Zinke (Mont.) Pat Smith Mark Geist John Tiegen Rep. Michael McCaul (Texas) Sheriff David Clarke Rep. Sean Duffy (Wis.) Darryl Glenn Sen. Tom Cotton (Ark.) Karen Vaughn Former Arkansas Gov. Mike Huckabee Former New York City Mayor Rudy Giuliani Melania Trump Sen. Joni Ernst (Iowa) Kathryn Gates-Skipper Marcus Luttrell Dana White Arkansas Gov. Asa Hutchinson Arkansas Attorney General Leslie Rutledge Michael Mukasey Andy Wist Sen. Jeff Sessions (Ala.) Retired Lt. Gen. Michael Flynn Alex Smith House Speaker Paul Ryan (Wis.) Rep. Kevin McCarthy (Calif.) Kerry Woolard Sen. Shelley Moore Capito (W.Va.) Dr. Ben Carson Republican National Committee Co-Chair Sharon Day Natalie Gulbis Kimberlin Brown Antonio Sabato Jr. Peter Thiel Eileen Collins Sen. Ted Cruz (Texas) Former House Speaker Newt Gingrich (Ga.) Michelle Van Etten Lynne Patton Eric Trump Harold Hamm Rep. Chris Collins (N.Y.) Brock Mealer Rep. Marsha Blackburn (Tenn.) Oklahoma Gov. Mary Fallin Darrell Scott Lisa Shin Florida Gov. Rick Scott Republican National Committee Chairman Reince Priebus Tom Barrack Ivanka Trump Florida Attorney General Pam Bondi Jerry Falwell Jr. Rabbi Haskel Lookstein Chris Cox Senate Majority Leader Mitch McConnell (Ky.) Tiffany Trump New Jersey Gov. Chris Christie Donald J. Trump Jr. Wisconsin Gov. Scott WalkerNo  winners  and very few elected officials representing the Republican Party. While the Democrats have a former president and a current sitting president and vice president, not one former Republican president could be seen at the podium this year   and neither are hopefuls like McCain, Romney or Palin (apparently Alaska is too far from Ohio to attend). That should say everything that needs to be said.Trump s festival of losers will be about as good as Clint Eastwood s empty chair. Those who are hostile to blacks affected by police brutality (David Clarke), who have cheated on their wives (Gingrich), and those who are hostile to gays (almost everyone) and Muslims (Flynn) will be the one s appealing to the conscience and logic of America.They even have a guy speaking  Ted Cruz   who refuses to endorse the nominee.This will be one interesting convention. The only thing that s missing is Phil Robertson.Featured image via Sarah D. Davis/Getty Images',\n",
       "         b'LONDON (Reuters) - Britain s government said on Thursday it would use legislation to fix the time and date of the country s European Union exit, addressing concerns of Brexiteers who fear slow negotiations and opposition to the divorce could cause delays.  The government said it was proposing a change to the EU (Withdrawal) Bill currently making its way through parliament to set the exit for 2300 GMT on March 29, 2019.   We ve listened to members of the public and Parliament and have made this change to remove any confusion or concern about what  exit day  means,  Brexit minister David Davis said in a statement. The date has previously been implied by a fixed two-year negotiating period triggered on March 29, 2017, but not explicitly stated in law. Prime Minister Theresa May and her team are battling to keep exit negotiations with the EU moving, amid growing concern that talks have yet to begin on a transitional deal to smooth the exit for businesses or the complex terms of a future trade deal. At home, May s government is facing a rough ride in parliament on the withdrawal bill, which forms the central plank of her Brexit strategy. After losing her parliamentary majority in an ill-judged election in June, May has to unite a Conservative Party deeply split over leaving the EU and rely on the support of a small Northern Irish party to get the bill through without defeats. The decision to define the date of Brexit in law came with a clear statement that the government is prepared to consider other concessions - even those proposed by political opponents.  This important step demonstrates our pragmatic approach to this vital piece of legislation,  Davis said.  Where MPs (Members of Parliament) can improve the Bill, whatever their party, we will work with them.  The bill will begin the latest stage of its journey through parliament on Tuesday and Wednesday, when lawmakers will debate and vote on some of the 186 pages of changes that have so far been proposed. The bill is at an early stage, and is expected to take months to make its way through both houses of parliament.  ',\n",
       "         b'VATICAN CITY (Reuters) - Pope Francis urged U.S. President Donald Trump to be guided by ethical values and as he took office on Friday, saying he must take care of the poor and the outcast during his time in office. \\xe2\\x80\\x9cAt a time when our human family is beset by grave humanitarian crises demanding farsighted and united political responses, I pray that your decisions will be guided by the rich spiritual and ethical values that have shaped the history of the American people and your nation\\xe2\\x80\\x99s commitment to the advancement of human dignity and freedom worldwide,\\xe2\\x80\\x9d Francis said in a message sent to Trump minutes after he was inaugurated. \\xe2\\x80\\x9cUnder your leadership, may America\\xe2\\x80\\x99s stature continue to be measured above all by its concern for the poor, the outcast and those in need ...,\\xe2\\x80\\x9d Francis said in the message released by the Vatican. Francis, the first pope from Latin America, has made concern for the poor and the weakest members of society a key platform of his nearly four-year-old papacy. Last year, in response to an answer about Trump\\xe2\\x80\\x99s views on immigration and his intention to build a wall on the border with Mexico, Francis said a man with those views is \\xe2\\x80\\x9cnot Christian\\xe2\\x80\\x9d. Trump struck back, calling the pope\\xe2\\x80\\x99s comments \\xe2\\x80\\x9cdisgraceful.\\xe2\\x80\\x9d          ',\n",
       "         b'MOSCOW (Reuters) - Russian opposition leader Alexei Navalny was barred on Monday from running in next year s presidential election after officials ruled he was ineligible to take part due to a suspended prison sentence he says was trumped up. The decision by the central election commission was widely expected as election officials had repeatedly declared Navalny would be ineligible to run. Twelve members of the 13-member commission voted to bar Navalny. One member abstained, citing a possible conflict of interest.  Navalny, 41, who polls show would struggle to beat incumbent Vladimir Putin in the March election, said he would appeal and called on his supporters to boycott the election and campaign against it being held.  We knew this could happen, and so we have a straight-forward, clear plan,  Navalny said in a pre-recorded video released immediately after the decision.  We announce a boycott of the election. The process in which we are called to participate is not a real election. It will feature only Putin and the candidates which he has personally selected.   Navalny said he would use his campaign headquarters across Russia to support the boycott and monitor turnout on voting day, March 18. Polls show Putin, 65, who has dominated Russia s political landscape for the last 17 years, is on course to be comfortably re-elected, making him eligible to serve another six years until 2024, when he turns 72. Allies laud Putin as a father-of-the-nation figure who has restored national pride and expanded Moscow s global clout with interventions in Syria and Ukraine. Navalny says Putin s support is exaggerated and artificially maintained by a biased state media and an unfair system. He says he could defeat him in a fair election, an assertion Putin s supporters have said is laughable. Before the commission voted, Navalny, dressed in a dark suit, had demanded he be allowed to take part in the election delivering a speech that angered election officials.   In one heated exchange, he said Russian voters  faith in the system hung in the balance.  If you do not allow me to run, you are taking a decision against millions of people who are demanding that Navalny take part,  he said, referring to himself in the first person.   You are not robots, you are living, breathing human beings you are an independent body ... for once in your lives, do the right thing,  he said. His supporters clapped him, but officials were unmoved.  Boris Ebzeev, one of the officials, said:  We re talking about the law and abiding by the law.  Ebzeev said there could not be  the slightest doubt  that Navalny was ineligible to run, a reference to Russia s constitution that bars him running because of his suspended sentence relating to an embezzlement case. Navalny has repeatedly denied any wrongdoing, and says the case is politically motivated. There had been some speculation prior to the decision among the opposition that Navalny might be allowed to run in order to inject more interest into what looks like a predictable contest amid Kremlin fears that apathetic voters might not bother to vote.    Navalny has been jailed three times this year and charged with breaking the law by repeatedly organizing public meetings and rallies. ',\n",
       "         b'The majority of America saw this coming: Trump s supporters are finally becoming extremely disappointed in the failing performance of their president of choice.Thanks to a New York Times profile of Trump supporters in Pennsylvania, we now know that Trump voters recognize that they re not seeing any of the  winning  that Trump has promised them over and over. Things have gotten so bad, that the only people in Trump s corner are actually losing hope.Theresa Remington, a home-care worker with two children on active duty in the Marines, had hopes Trump would be good for the Veterans Administration and health care system   and has been severely disappointed. Remington said Trump was Just like any other damn president,  and now she s curious about what things would have been like if Sen. Bernie Sanders had won the election.Brian Mock, a tattoo artist, admitted with reluctance that Trump is not the right president for this country. Mock said: No one wants to be wrong. It s seeing a house on fire and saying,  That house isn t on fire.  It is very clearly on fire. According to The Times, Trump supporters feel they have been blindsided and are wondering where Trump s grandiose promises have gone. Some have been completely turned off by Trump s erratic tweeting. Some are so upset with Trump that they feel more confident that Vice President Mike Pence would be a more capable POTUS.Bill Yokobosky IV, a train engineer, admitted: It s not what he s done, it s what he s trying to do. He hasn t succeeded, really. He s fighting himself and he s fighting Washington. They re just trying to get settled in there. The Times  report of the defeat Trump supporters are feeling is right in line with Trump s approval rating, which is now lower than ever before according to a recent Gallup poll. After dropping the  Mother of All Bombs , Trump s broken his own record to reach a new historic low.Featured image via Win McNamee / Getty Images',\n",
       "         b\"No matter what you think of former First Lady, Senator, Secretary of State, and Democratic presidential candidate Hillary Clinton or her politics, there is one thing that cannot be denied: She would have been a competent president. However, thanks to a range of factors, Donald Trump beat her in the electoral college, and now we are stuck with the dangerous incompetence of Team Trump.The latest development after the three weeks of crazy that has been the beginning of the Trump regime is the fact that General Michael Flynn, Trump s now-former National Security Adviser, has resigned amid a flurry of chaos and scandal regarding conversations he had with a Russian official regarding sanctions before the Trump administration took over the White House.In an  I told you so  moment, Hillary weighed in on what was happening with Team Trump. This comes after one of Hillary s supporters, former Deputy Secretary of State Phillipe Reines, tweeted a snide remark regarding the fact that General Flynn and his son, Michael Flynn Jr, had participated in spreading fake news regarding #Pizzagate, a false story alleging that Hillary and her campaign chair, John Podesta, ran a child sex ring out of a Washington, DC pizza parlor. Of course this was not true, and absurd and ridiculous to anyone with half a brain, but some Trump supporters believed it wholeheartedly. This resulted in a man opening fire in the pizza joint, a popular family place called Comet Pizza.Hillary retweeted Reines, and added her own comment, thusly:Philippe's got his own way of saying things, but he has a point about the real consequences of fake news  https://t.co/a02sXiaHfp  Hillary Clinton (@HillaryClinton) February 14, 2017Of course, Hillary and Phillipe are right. Not only have these lies from Team Trump come back to bite them, but said lies had very real consequences. Keep calling them out, Hillary. Trump may have won some key states, but remember   you won the popular vote. You also warned America that this would happen. Godspeed, sister. Welcome to #TheResistance.Featured image via Justin Sullivan/Getty Images\",\n",
       "         b'NORTH SINAI, Egypt (Reuters) - An attack that killed more than 300 people in North Sinai has prompted Egyptian officials to renew efforts to enlist local tribes whose support will be critical in attempts to defeat Islamic State, security and military sources said.  Brandishing an Islamic State flag, masked men in military-style uniforms fired on worshippers at a village mosque on Friday in the worst such bloodshed in modern Egyptian history. It was a dramatic setback for the military, which has been fighting militant groups in the Sinai peninsula for years with air strikes, ground assaults and mass arrests, while hundreds of police and soldiers have been killed. Lacking sufficient counter-insurgency skills, the army began recruiting tribesmen three years ago, hoping their mastery of the Sinai s inhospitable terrain would provide intelligence on the militants and their arms smuggling routes. That campaign has produced limited results and the latest bloodshed will pressure the army to secure better cooperation from tribal leaders despite some gains against Islamic State this year.      No group has claimed responsibility for Friday s assault, whose brutality shocked Egyptians. On Wednesday, President Abdel Fattah al-Sisi ordered the  military to secure the Sinai within the next three months.  You can use all brute force necessary,  he said. Tribes in the Sinai vowed to unite and join forces with the army after fellow Bedouins were killed in Friday s carnage. But such declarations by Sinai tribes   which accuse the Cairo government of treating them like second-class citizens   have in the past produced limited results. In addition, tribesmen remain divided over feuds and other local issues.  The Egyptian military has more than enough weapons. The biggest issue when it comes to doing anything in the Sinai is to make sure they have good intelligence,  said HA Hellyer, an Egypt expert and senior non-resident fellow at the Atlantic Council.  If it is going to be a counter-terrorism, counter-insurgency set of strategies, that will necessitate involvement from the tribes at a very significant level.  Three security and military sources said that over the past two days talks had been held between security officials and tribal leaders in north and central Sinai. Those security officials said greater coordination and cooperation were needed to defeat the militants. The tribes were divided into five groups and security officials sat separately with each group.   We asked them to help us to control the militants in the areas that they live, farm and move in, because each tribe knows its own people best,  said one of the sources.  There are many things that make them cooperate with us and they vary from each tribe to the next. That s why we sat separately with each tribe. One tribe needs services, and there is economic cooperation on projects with another tribe.  A spokesman for the military said it had made no statement on tribal affairs in Sinai and he could not comment Alliances with tribes have succeeded in other countries facing serious extremist threats   under the right conditions.  In 2006, Sunni tribesmen joined forces with U.S. troops in Iraq and rebelled against al Qaeda in what became known as the  Sahwa , or Awakening.  By January 2009, Washington had invested more than $400 million in the Awakening program, according to U.S. data. Fighters were paid as much as $300-400 a month.  That investment paid off, helping Iraqi security forces to defeat al Qaeda then.  Under a Sisi initiative in 2015 to reinforce cooperation, several hundred Bedouins were to be recruited. Occasionally, they joined patrols and manned checkpoints under supervision. But some tribal leaders were reluctant to team up with the army without more weapons to confront battle-hardened militant fighters. Authorities are wary of supplying arms to tribes with a history of animosity to Cairo, security officials say.  When the security officials spoke to the tribal leaders, they told them that there is no third option in front of them. Either with us or against us,  another source said.   Most of the tribes immediately announced their cooperation with security forces, and others asked for some time to think. But I think that the security forces don t have the time to give them to think.  Mustafa al-Aqili, of the Supreme Council of Arab Tribes, said heavy losses in the mosque attack could encourage both sides to work more closely together. But he stressed waging war against radicals was the responsibility of the military.   Sinai s people grew stronger after that attack and they are standing more with the army,  he said.  They are keen to join the fighting. But that is the job of the army.  A security source in El-Arish, the main city in North Sinai, said ties have improved.   The Bedouins are cooperating with us and have increased their cooperation,  he said. Bringing Sinai s tribes together and on the military s side will not be easy. The cash-strapped government would have to create jobs and invest in schools and infrastructure. To appease angry residents for now, authorities announced $10 million in funds shortly after the attack.  We have no relationship with politics or anything else, and don t cooperate with the army or armed groups,  said Mansur Eid, who lost his son in Friday s attack.  We just live in poverty here.  Egypt may face a bigger challenge if Islamic State militants defeated in Iraq, Syria and Libya join comrades in the Sinai. Help from tribes would be even more important. Friday s attack was similar to Islamic State s approach in Iraq, where it has bombed places of worship in a bid to deepen sectarian strife. Sisi has said that fighters returning from Iraq and Syria may seek refuge in Libya and target Egypt from there.   In his most recent speech released in September, Islamic State leader Abu Bakr al-Baghdadi urged followers in North Sinai to keep fighting after the group was defeated in Mosul.  Tribal leaders say there are around 800 militants, mostly Egyptians, with some Palestinians and other foreigners, in the North Sinai. But even small numbers of fighters have inflicted heavy casualties with suicide bombings in Egypt and elsewhere. Islamic State is also seeking to enlist tribesmen in the Sinai, and Ahmed Zagloul, a researcher on Islamist movements, said it had managed to recruit from the largest tribes. By capitalizing on frustrations with the government and civilian deaths, Islamic State has won some support despite its brutal methods. Many in the Sinai were not won over by the government s methods of fighting terrorism, which had left some villages completely destroyed, said Sheikh Ibrahim al-Menei, a leader of the Sawarka tribe. '],\n",
       "        dtype=object)>}, <tf.Tensor: shape=(32,), dtype=int64, numpy=\n",
       " array([1, 1, 0, 1, 1, 1, 0, 1, 1, 1, 1, 0, 0, 1, 1, 1, 1, 0, 1, 0, 1, 1,\n",
       "        1, 1, 0, 0, 1, 1, 1, 0, 0, 1])>)"
      ]
     },
     "execution_count": 39,
     "metadata": {},
     "output_type": "execute_result"
    }
   ],
   "source": [
    "list(train_data)[0]"
   ]
  },
  {
   "cell_type": "markdown",
   "metadata": {
    "id": "QQhvgMyzfEKk"
   },
   "source": [
    "## Embedding + Model\n"
   ]
  },
  {
   "cell_type": "code",
   "execution_count": 57,
   "metadata": {
    "id": "ddklEieYiRhH"
   },
   "outputs": [],
   "source": [
    "embedding = \"https://tfhub.dev/google/nnlm-en-dim50/2\"\n",
    "hub_layer = hub.KerasLayer(embedding, dtype=tf.string, trainable=True)"
   ]
  },
  {
   "cell_type": "code",
   "execution_count": 58,
   "metadata": {
    "colab": {
     "base_uri": "https://localhost:8080/"
    },
    "id": "T25kKknFiRl0",
    "outputId": "f5a52696-eb0a-4a4c-f601-d5b5984f01e3"
   },
   "outputs": [
    {
     "data": {
      "text/plain": [
       "<tf.Tensor: shape=(512, 50), dtype=float32, numpy=\n",
       "array([[ 0.79476875,  0.28695327,  0.6339412 , ..., -0.21898238,\n",
       "        -0.49479035,  0.244615  ],\n",
       "       [ 1.1358101 ,  0.4969203 ,  0.44131362, ..., -0.11828542,\n",
       "         0.22833906, -0.3626587 ],\n",
       "       [ 1.0479355 ,  0.1611436 ,  0.03254304, ..., -0.21970323,\n",
       "        -0.1947471 , -0.06093708],\n",
       "       ...,\n",
       "       [ 0.9799793 ,  0.1500292 ,  0.4979023 , ...,  0.11029322,\n",
       "         0.11470143, -0.13644151],\n",
       "       [ 0.3511225 ,  0.46538994,  0.02568119, ...,  0.16861767,\n",
       "        -0.14470051,  0.13008107],\n",
       "       [ 1.2974858 ,  0.4130566 , -0.16124429, ..., -0.11828053,\n",
       "        -0.42677692, -0.01708301]], dtype=float32)>"
      ]
     },
     "execution_count": 58,
     "metadata": {},
     "output_type": "execute_result"
    }
   ],
   "source": [
    "hub_layer(list(train_data)[0][0])"
   ]
  },
  {
   "cell_type": "code",
   "execution_count": 59,
   "metadata": {
    "id": "fpoA9mSpiRq8"
   },
   "outputs": [],
   "source": [
    "model1 = tf.keras.Sequential()\n",
    "model1.add(hub_layer)\n",
    "model1.add(tf.keras.layers.Dense(16, activation='relu'))\n",
    "model1.add(tf.keras.layers.Dropout(0.4))\n",
    "model1.add(tf.keras.layers.Dense(16, activation='relu'))\n",
    "model1.add(tf.keras.layers.Dropout(0.4))\n",
    "model1.add(tf.keras.layers.Dense(1, activation='sigmoid'))"
   ]
  },
  {
   "cell_type": "code",
   "execution_count": 60,
   "metadata": {
    "id": "Obeiq6FCiRvU"
   },
   "outputs": [],
   "source": [
    "model1.compile(optimizer=tf.keras.optimizers.Adam(learning_rate=0.001),\n",
    "              loss=tf.keras.losses.BinaryCrossentropy(),\n",
    "              metrics=['accuracy','AUC'])"
   ]
  },
  {
   "cell_type": "code",
   "execution_count": 61,
   "metadata": {
    "colab": {
     "base_uri": "https://localhost:8080/"
    },
    "id": "4eLvZqJ1iRzr",
    "outputId": "81b24bf9-dfd0-4cfc-f642-a694408f7166"
   },
   "outputs": [
    {
     "name": "stdout",
     "output_type": "stream",
     "text": [
      "71/71 [==============================] - 6s 62ms/step - loss: 0.7919 - accuracy: 0.3085 - auc: 0.2377\n"
     ]
    },
    {
     "data": {
      "text/plain": [
       "[0.7919171452522278, 0.3085361123085022, 0.237661212682724]"
      ]
     },
     "execution_count": 61,
     "metadata": {},
     "output_type": "execute_result"
    }
   ],
   "source": [
    "model1.evaluate(train_data)"
   ]
  },
  {
   "cell_type": "code",
   "execution_count": 62,
   "metadata": {
    "colab": {
     "base_uri": "https://localhost:8080/"
    },
    "id": "TAKiH2rliR4H",
    "outputId": "452b2ed0-987b-4460-aa1d-c8fb5cd35da1"
   },
   "outputs": [
    {
     "name": "stdout",
     "output_type": "stream",
     "text": [
      "9/9 [==============================] - 1s 57ms/step - loss: 0.7918 - accuracy: 0.3049 - auc: 0.2329\n"
     ]
    },
    {
     "data": {
      "text/plain": [
       "[0.7917680144309998, 0.30489978194236755, 0.23294660449028015]"
      ]
     },
     "execution_count": 62,
     "metadata": {},
     "output_type": "execute_result"
    }
   ],
   "source": [
    "model1.evaluate(valid_data)"
   ]
  },
  {
   "cell_type": "code",
   "execution_count": 63,
   "metadata": {
    "colab": {
     "base_uri": "https://localhost:8080/"
    },
    "id": "kseVsM1HiR9G",
    "outputId": "abee3dfa-9e17-4b0c-a28a-5541e8d8a9d3"
   },
   "outputs": [
    {
     "name": "stdout",
     "output_type": "stream",
     "text": [
      "Epoch 1/20\n",
      "71/71 [==============================] - 46s 623ms/step - loss: 0.5044 - accuracy: 0.7550 - auc: 0.8451 - val_loss: 0.1764 - val_accuracy: 0.9639 - val_auc: 0.9913\n",
      "Epoch 2/20\n",
      "71/71 [==============================] - 45s 639ms/step - loss: 0.1688 - accuracy: 0.9552 - auc: 0.9876 - val_loss: 0.0493 - val_accuracy: 0.9873 - val_auc: 0.9981\n",
      "Epoch 3/20\n",
      "71/71 [==============================] - 45s 628ms/step - loss: 0.0713 - accuracy: 0.9842 - auc: 0.9971 - val_loss: 0.0235 - val_accuracy: 0.9929 - val_auc: 0.9994\n",
      "Epoch 4/20\n",
      "71/71 [==============================] - 44s 625ms/step - loss: 0.0368 - accuracy: 0.9929 - auc: 0.9991 - val_loss: 0.0161 - val_accuracy: 0.9955 - val_auc: 0.9996\n",
      "Epoch 5/20\n",
      "71/71 [==============================] - 45s 634ms/step - loss: 0.0217 - accuracy: 0.9957 - auc: 0.9996 - val_loss: 0.0112 - val_accuracy: 0.9967 - val_auc: 0.9995\n",
      "Epoch 6/20\n",
      "71/71 [==============================] - 45s 641ms/step - loss: 0.0138 - accuracy: 0.9974 - auc: 0.9999 - val_loss: 0.0100 - val_accuracy: 0.9967 - val_auc: 0.9995\n",
      "Epoch 7/20\n",
      "71/71 [==============================] - 46s 644ms/step - loss: 0.0098 - accuracy: 0.9974 - auc: 0.9999 - val_loss: 0.0097 - val_accuracy: 0.9971 - val_auc: 0.9996\n",
      "Epoch 8/20\n",
      "71/71 [==============================] - 44s 614ms/step - loss: 0.0075 - accuracy: 0.9983 - auc: 0.9999 - val_loss: 0.0090 - val_accuracy: 0.9973 - val_auc: 0.9996\n",
      "Epoch 9/20\n",
      "71/71 [==============================] - 53s 749ms/step - loss: 0.0064 - accuracy: 0.9986 - auc: 1.0000 - val_loss: 0.0089 - val_accuracy: 0.9971 - val_auc: 0.9996\n",
      "Epoch 10/20\n",
      "71/71 [==============================] - 44s 616ms/step - loss: 0.0061 - accuracy: 0.9988 - auc: 0.9999 - val_loss: 0.0104 - val_accuracy: 0.9969 - val_auc: 0.9993\n",
      "Epoch 11/20\n",
      "71/71 [==============================] - 45s 637ms/step - loss: 0.0045 - accuracy: 0.9989 - auc: 1.0000 - val_loss: 0.0108 - val_accuracy: 0.9971 - val_auc: 0.9993\n",
      "Epoch 12/20\n",
      "71/71 [==============================] - 44s 620ms/step - loss: 0.0046 - accuracy: 0.9986 - auc: 1.0000 - val_loss: 0.0100 - val_accuracy: 0.9973 - val_auc: 0.9991\n",
      "Epoch 13/20\n",
      "71/71 [==============================] - 43s 612ms/step - loss: 0.0041 - accuracy: 0.9986 - auc: 1.0000 - val_loss: 0.0114 - val_accuracy: 0.9969 - val_auc: 0.9991\n",
      "Epoch 14/20\n",
      "71/71 [==============================] - 45s 627ms/step - loss: 0.0038 - accuracy: 0.9989 - auc: 1.0000 - val_loss: 0.0107 - val_accuracy: 0.9978 - val_auc: 0.9991\n",
      "Epoch 15/20\n",
      "71/71 [==============================] - 45s 627ms/step - loss: 0.0034 - accuracy: 0.9991 - auc: 0.9999 - val_loss: 0.0109 - val_accuracy: 0.9978 - val_auc: 0.9991\n",
      "Epoch 16/20\n",
      "71/71 [==============================] - 45s 634ms/step - loss: 0.0038 - accuracy: 0.9989 - auc: 1.0000 - val_loss: 0.0114 - val_accuracy: 0.9978 - val_auc: 0.9991\n",
      "Epoch 17/20\n",
      "71/71 [==============================] - 45s 639ms/step - loss: 0.0032 - accuracy: 0.9989 - auc: 1.0000 - val_loss: 0.0145 - val_accuracy: 0.9971 - val_auc: 0.9991\n",
      "Epoch 18/20\n",
      "71/71 [==============================] - 45s 640ms/step - loss: 0.0030 - accuracy: 0.9990 - auc: 1.0000 - val_loss: 0.0119 - val_accuracy: 0.9976 - val_auc: 0.9989\n",
      "Epoch 19/20\n",
      "71/71 [==============================] - 45s 637ms/step - loss: 0.0030 - accuracy: 0.9989 - auc: 1.0000 - val_loss: 0.0124 - val_accuracy: 0.9978 - val_auc: 0.9989\n",
      "Epoch 20/20\n",
      "71/71 [==============================] - 45s 627ms/step - loss: 0.0028 - accuracy: 0.9990 - auc: 1.0000 - val_loss: 0.0119 - val_accuracy: 0.9980 - val_auc: 0.9989\n"
     ]
    }
   ],
   "source": [
    "history1 = model1.fit(train_data, epochs=20, validation_data=valid_data)"
   ]
  },
  {
   "cell_type": "code",
   "execution_count": 64,
   "metadata": {
    "colab": {
     "base_uri": "https://localhost:8080/",
     "height": 295
    },
    "id": "-NHHbyQViSCj",
    "outputId": "7454ac6f-fb12-45e2-f77f-493330d029d4"
   },
   "outputs": [
    {
     "data": {
      "image/png": "[encoded data removed]",
      "text/plain": [
       "<Figure size 432x288 with 1 Axes>"
      ]
     },
     "metadata": {
      "needs_background": "light"
     },
     "output_type": "display_data"
    }
   ],
   "source": [
    "plt.plot(history1.history['accuracy'], label=\"Training acc\")\n",
    "plt.plot(history1.history['val_accuracy'], label=\"Validation acc\")\n",
    "plt.title(\"Accuracy of Model\")\n",
    "plt.ylabel(\"Accuracy\")\n",
    "plt.xlabel(\"Epoch\")\n",
    "plt.legend()\n",
    "plt.show()"
   ]
  },
  {
   "cell_type": "code",
   "execution_count": 65,
   "metadata": {
    "colab": {
     "base_uri": "https://localhost:8080/",
     "height": 295
    },
    "id": "iodwV7qPiSGd",
    "outputId": "1c764ddd-89a7-44d9-d8d2-00d7610e8161"
   },
   "outputs": [
    {
     "data": {
      "image/png": "[encoded data removed]",
      "text/plain": [
       "<Figure size 432x288 with 1 Axes>"
      ]
     },
     "metadata": {
      "needs_background": "light"
     },
     "output_type": "display_data"
    }
   ],
   "source": [
    "plt.plot(history1.history['loss'], label=\"Training loss\")\n",
    "plt.plot(history1.history['val_loss'], label=\"Validation loss\")\n",
    "plt.title(\"Loss of Model\")\n",
    "plt.ylabel(\"Loss\")\n",
    "plt.xlabel(\"Epoch\")\n",
    "plt.legend()\n",
    "plt.show()"
   ]
  },
  {
   "cell_type": "code",
   "execution_count": 66,
   "metadata": {
    "colab": {
     "base_uri": "https://localhost:8080/"
    },
    "id": "eynV-_7XiSL0",
    "outputId": "04786707-34be-455a-8086-99571ae4abd9"
   },
   "outputs": [
    {
     "name": "stdout",
     "output_type": "stream",
     "text": [
      "9/9 [==============================] - 1s 96ms/step - loss: 0.0085 - accuracy: 0.9971 - auc: 0.9996\n"
     ]
    },
    {
     "data": {
      "text/plain": [
       "[0.008517567999660969, 0.9971047043800354, 0.9995682239532471]"
      ]
     },
     "execution_count": 66,
     "metadata": {},
     "output_type": "execute_result"
    }
   ],
   "source": [
    "model1.evaluate(test_data)"
   ]
  },
  {
   "cell_type": "code",
   "execution_count": null,
   "metadata": {
    "id": "dLr3flDeUu1X"
   },
   "outputs": [],
   "source": []
  }
 ],
 "metadata": {
  "colab": {
   "collapsed_sections": [],
   "name": "fake news detection.ipynb",
   "provenance": []
  },
  "kernelspec": {
   "display_name": "Python 3 (ipykernel)",
   "language": "python",
   "name": "python3"
  },
  "language_info": {
   "codemirror_mode": {
    "name": "ipython",
    "version": 3
   },
   "file_extension": ".py",
   "mimetype": "text/x-python",
   "name": "python",
   "nbconvert_exporter": "python",
   "pygments_lexer": "ipython3",
   "version": "3.9.10"
  }
 },
 "nbformat": 4,
 "nbformat_minor": 1
}
